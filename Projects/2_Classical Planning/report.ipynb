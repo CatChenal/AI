{
 "cells": [
  {
   "cell_type": "code",
   "execution_count": 1,
   "metadata": {},
   "outputs": [],
   "source": [
    "from IPython import get_ipython\n",
    "from IPython.core.interactiveshell import InteractiveShell\n",
    "InteractiveShell.ast_node_interactivity = \"all\"\n",
    "\n",
    "from IPython.display import HTML, Markdown\n",
    "\n",
    "def add_div_around_html(div_html_text, output_string=False, div_style=\"{width: 80%}\"):\n",
    "    \"\"\"\n",
    "    Wrap an html code str inside a div.\n",
    "    div_style: whatever follows style= within the <div>\n",
    "    \n",
    "    Behaviour with `output_string=True`:\n",
    "    The cell is overwritten with the output string (but the cell mode is still in 'code' not 'markdown')\n",
    "    The only thing to do is change the cell mode to Markdown.\n",
    "    If `output_string=False`, the HTML output is displayed in an output cell.\n",
    "    \"\"\"\n",
    "    div = f\"\"\"<div style=\"{div_style}\">{div_html_text}</div>\"\"\"\n",
    "    if output_string:\n",
    "        return get_ipython().set_next_input(div, 'markdown')\n",
    "    else:\n",
    "        return HTML(div)\n",
    "    \n",
    "    \n",
    "import create_report as cr\n",
    "\n",
    "# autoreload extension\n",
    "if 'autoreload' not in get_ipython().extension_manager.loaded:\n",
    "    %load_ext autoreload\n",
    "\n",
    "%autoreload 2"
   ]
  },
  {
   "cell_type": "code",
   "execution_count": 2,
   "metadata": {},
   "outputs": [
    {
     "data": {
      "text/html": [
       "<div style=\"{width: 80%}\"><div style=\"border-style: solid; border-width:thin; border-color: #4d0000; padding:40px;\">\n",
       "    <h1> Classical Planning Report</h1>\n",
       "    <h3> Author: Cat Chenal</h3><div></div>"
      ],
      "text/plain": [
       "<IPython.core.display.HTML object>"
      ]
     },
     "execution_count": 2,
     "metadata": {},
     "output_type": "execute_result"
    },
    {
     "data": {
      "text/html": [
       "<div style=\"{width: 80%}\">\n",
       "<h1> Introduction</h1>\n",
       "    <h2> Planning problems</h2>\n",
       "    \n",
       "    <p style=\"font-size:110%;\">\n",
       "        In this project, the planning problem is that of Air Cargo Transport: given some cargo, a plane, an origin, a destination, a start state, and a goal, we\n",
       "        want to find a way to achieve the goal optimally or according to some search heuristics. Once we deal with multipicity in the parameters, the search space \n",
       "        of the possible actions to take become astronomical, hence infeasible even with a powerful computer. Thus, we rely on programming to implement a planning \n",
       "        search agent to solve the problem with different approaches.<br>\n",
       "        The implementation relies on the Planning Domain Definition Language (PDDL), a framework that allows a planner to codify all the needed parameters using \n",
       "        first-order-logic:<br>\n",
       "        <ul>\n",
       "            <li>The initial (known) state: what has to be true in order to have a valid problem, e.g. at least one empty plane!</li>\n",
       "            <li>The actions that are available in the state: e.g., [Un]LoadCargo, Fly, etc.</li>\n",
       "            <li>The result of applying the action: e.g.: flying Plane1 to destination means no Plane1 at origin airport.</li>\n",
       "            <li>The goal state: Cargo at destination.</li>\n",
       "        </ul>\n",
       "       <br>\n",
       "       Several of two types of searches are implemented: Uninformed and Informed. Uninformed searches only know/check whether a given state is \n",
       "       the stated goal or not, while Informed searches employ a heuristic, or strategy, to ween out unacceptable states, and thus can apply to more complex problems.<br>\n",
       "       <br>\n",
       "       This report analyzes Project 2 of Udacity AI Nanodegree, in which the <code>my_planning_graph.py</code> module was completed with the required code.<br>\n",
       "       After successful testing, the data files for all four air cargo problems was generated as tab-separated files using modifications of the existing code.<br>\n",
       "        <ul>\n",
       "            <li><code>run_report.py</code>: a copy of <code>run_search.py</code> that uses a modified <code>main()</code> function</li>\n",
       "            <li><code>_utils.run_search_rpt()</code>: a new function that changes the output of <code>_utils.run_search()</code></li>\n",
       "        </ul>\n",
       "        This report will answer three questions:\n",
       "        <ol>\n",
       "            <li>Which algorithm or algorithms would be most appropriate for planning in a very restricted domain (i.e., one that has only a few actions) and needs to operate in real time?</li>\n",
       "            <li>Which algorithm or algorithms would be most appropriate for planning in very large domains (e.g., planning delivery routes for all UPS drivers in the U.S. on a given day)?</li>\n",
       "            <li>Which algorithm or algorithms would be most appropriate for planning problems where it is important to find only optimal plans?</li>\n",
       "        </ol>\n",
       "</p>\n",
       "</div>"
      ],
      "text/plain": [
       "<IPython.core.display.HTML object>"
      ]
     },
     "execution_count": 2,
     "metadata": {},
     "output_type": "execute_result"
    },
    {
     "data": {
      "text/html": [
       "<div style=\"{width: 80%}\">\n",
       "        <h1>Analysis of the output of Problems 1 and 2 </h1>\n",
       "        <p style=\"font-size:110%;\">\n",
       "            All four problems differ by the number of nodes, cargo loads, airports, and specificity of goals. \n",
       "            The Complexity column holds a problem's total number of parameters:<br>\n",
       "            <pre>\n",
       "                <table border=\"1\"  style=\"text-align: center;\">\n",
       "  <thead>\n",
       "    <tr>\n",
       "      <th>Air cargo problem</th>\n",
       "      <th>Cargos</th>\n",
       "      <th>Planes</th>\n",
       "      <th>Airports</th>\n",
       "      <th>Goal</th>\n",
       "    </tr>\n",
       "  </thead>\n",
       "  <tbody>\n",
       "    <tr>\n",
       "      <td>1</td>\n",
       "      <td>2</td>\n",
       "      <td>2</td>\n",
       "      <td>2</td>\n",
       "      <td>2</td>\n",
       "    </tr>\n",
       "    <tr>\n",
       "      <td>2</td>\n",
       "      <td>3</td>\n",
       "      <td>3</td>\n",
       "      <td>3</td>\n",
       "      <td>3</td>\n",
       "    </tr>\n",
       "    <tr>\n",
       "      <td>3</td>\n",
       "      <td>4</td>\n",
       "      <td>2</td>\n",
       "      <td>4</td>\n",
       "      <td>4</td>\n",
       "    </tr>\n",
       "    <tr>\n",
       "      <td>4</td>\n",
       "      <td>5</td>\n",
       "      <td>2</td>\n",
       "      <td>4</td>\n",
       "      <td>5</td>\n",
       "    </tr>\n",
       "  </tbody>\n",
       "</table>\n",
       "            </pre>\n",
       "\n",
       "            The first two problems are the less complex and are used to decide on the appropriate choices of search \n",
       "            functions and heuristic on more \"real life\" problems (Problems 3 and 4).<br>\n",
       "            The analysis relies on three charts:\n",
       "            <ul>\n",
       "                <li> Number of nodes expanded against number of actions in the domain</li>\n",
       "                <li> Search time against the number of actions in the domain</li>\n",
       "                <li> Length of the plans returned by each algorithm on all search problems</li>\n",
       "            </ul>\n",
       "        </p>\n",
       "    </div>"
      ],
      "text/plain": [
       "<IPython.core.display.HTML object>"
      ]
     },
     "execution_count": 2,
     "metadata": {},
     "output_type": "execute_result"
    },
    {
     "data": {
      "text/html": [
       "<div style=\"{width: 80%}\"><h1>* Complexity differences</h1>\n",
       "    <p style=\"font-size:110%;\">There is only one order of magnitude difference in the number \n",
       "    of Actions between Problem 2 and Problem 1 (72 vs. 20), but this yields multiple orders \n",
       "    of magnitude differences for both New Nodes and Search Time.</p>\n",
       "</div>"
      ],
      "text/plain": [
       "<IPython.core.display.HTML object>"
      ]
     },
     "execution_count": 2,
     "metadata": {},
     "output_type": "execute_result"
    },
    {
     "data": {
      "text/html": [
       "<div style=\"{width: 80%}\">\n",
       "      <figure style=\"display:inline-block;text-align:left;\">\n",
       "      <img src=\"C:\\Users\\catch\\Documents\\GitHub\\AI\\Projects\\2_Classical Planning\\images\\p12_NewNodes_Actions.png\" \n",
       "         alt=\"x\"\n",
       "         style=\"display:block;width:600;height:500;\"\n",
       "         title=\"NewNodes\"\n",
       "      >\n",
       "      <figcaption style=\"color:teal;font-weight:bold;font-family:Arial, Helvetica, sans-serif;\">\n",
       "         Figure 1 - NewNodes expanded in each search function for Problems 1 and 2 (log scale).\n",
       "      </figcaption>\n",
       "    </figure>\n",
       "    </div>"
      ],
      "text/plain": [
       "<IPython.core.display.HTML object>"
      ]
     },
     "execution_count": 2,
     "metadata": {},
     "output_type": "execute_result"
    },
    {
     "data": {
      "text/html": [
       "<div style=\"{width: 80%}\">\n",
       "      <figure style=\"display:inline-block;text-align:left;\">\n",
       "      <img src=\"C:\\Users\\catch\\Documents\\GitHub\\AI\\Projects\\2_Classical Planning\\images\\p12_ElapsedSeconds_Actions.png\" \n",
       "         alt=\"x\"\n",
       "         style=\"display:block;width:600;height:500;\"\n",
       "         title=\"Seconds\"\n",
       "      >\n",
       "      <figcaption style=\"color:teal;font-weight:bold;font-family:Arial, Helvetica, sans-serif;\">\n",
       "         Figure 2 - ElapsedSeconds in each search function for Problems 1 and 2.\n",
       "      </figcaption>\n",
       "    </figure>\n",
       "    </div>"
      ],
      "text/plain": [
       "<IPython.core.display.HTML object>"
      ]
     },
     "execution_count": 2,
     "metadata": {},
     "output_type": "execute_result"
    },
    {
     "data": {
      "text/html": [
       "<div style=\"{width: 80%}\"><h3>* Insights from Problems 1 and 2</h3><p style=\"font-size:110%;\">On the basis of Figures 1 and 2, which show the number of new nodes created, \n",
       "    and the time spent by each search function, respectively, the searches that are candidates \n",
       "    for elimination for more complex problems are those at the intersection of the average-ranked \n",
       "    costliest sets viz new nodes creation and search time.<br>These searches are:</p><pre><dl><dl><dt><b>10: astar_search h_pg_maxlevel</b></dt><dt><b> 8: astar_search h_unmet_goals</b></dt><dt><b> 3: uniform_cost_search</b></dt></dl></p></pre></div>"
      ],
      "text/plain": [
       "<IPython.core.display.HTML object>"
      ]
     },
     "execution_count": 2,
     "metadata": {},
     "output_type": "execute_result"
    },
    {
     "data": {
      "text/html": [
       "<div style=\"{width: 80%}\">\n",
       "<h2>Air cargo problems 3 and 4:</h2>\n",
       "   <p style=\"font-size:110%;\">\n",
       "    After elimination of problems 3, 8, and 10, the searches performed on both Problems 3 & 4 were the following<br>\n",
       "    (with the number corresponds to the number passed to `run_report.py` in the -s argument):\n",
       "    </p>\n",
       "    <pre> \n",
       "      <b>Uninformed searches </b>\n",
       "        1: breadth_first_search\n",
       "        2: depth_first_graph_search\n",
       "      <b>Informed searches with two different heuristics </b>\n",
       "        4: greedy_best_first_graph_search + h_unmet_goals\n",
       "        5: greedy_best_first_graph_search + h_pg_levelsum\n",
       "        6: greedy_best_first_graph_search + h_pg_maxlevel\n",
       "        7: greedy_best_first_graph_search + h_pg_setlevel\n",
       "        9: astar_search + h_pg_levelsum\n",
       "        11: <mark>astar_search + h_pg_setlevel</mark>\n",
       "    </pre>\n",
       "    <p style=\"font-size:110%;\">\n",
       "      Note: Search <mark>11</mark> was aborted on both problems due to excessive run time (> 1 hour).<br>\n",
       "      The raw data files were generated at the comman line using the `run_report.py` module, \n",
       "      which is a copy of the original `run_search.py` module with modifications on output string formats. \n",
       "      Note that `_utils.py.run_search` was amended accordingly.\n",
       "    </p>\n",
       "</div>"
      ],
      "text/plain": [
       "<IPython.core.display.HTML object>"
      ]
     },
     "execution_count": 2,
     "metadata": {},
     "output_type": "execute_result"
    },
    {
     "data": {
      "text/html": [
       "<div style=\"{width: 80%}\">\n",
       "      <figure style=\"display:inline-block;text-align:left;\">\n",
       "      <img src=\"C:\\Users\\catch\\Documents\\GitHub\\AI\\Projects\\2_Classical Planning\\images\\p34_NewNodes_Actions.png\" \n",
       "         alt=\"x\"\n",
       "         style=\"display:block;width:600;height:500;\"\n",
       "         title=\"NewNodes\"\n",
       "      >\n",
       "      <figcaption style=\"color:teal;font-weight:bold;font-family:Arial, Helvetica, sans-serif;\">\n",
       "         Figure 3 - NewNodes expanded in each search function for Problems 3 and 4.<br>\n",
       "<pre>         <mark>Search 11, A* with setlevel heuristic</mark>: aborted after 1 hour.<pre>\n",
       "      </figcaption>\n",
       "    </figure>\n",
       "    </div>"
      ],
      "text/plain": [
       "<IPython.core.display.HTML object>"
      ]
     },
     "execution_count": 2,
     "metadata": {},
     "output_type": "execute_result"
    },
    {
     "data": {
      "text/html": [
       "<div style=\"{width: 80%}\">\n",
       "      <figure style=\"display:inline-block;text-align:left;\">\n",
       "      <img src=\"C:\\Users\\catch\\Documents\\GitHub\\AI\\Projects\\2_Classical Planning\\images\\p34_ElapsedSeconds_Actions.png\" \n",
       "         alt=\"x\"\n",
       "         style=\"display:block;width:600;height:500;\"\n",
       "         title=\"Minutes\"\n",
       "      >\n",
       "      <figcaption style=\"color:teal;font-weight:bold;font-family:Arial, Helvetica, sans-serif;\">\n",
       "         Figure 4 - Elapsed minutes in each search function for Problems 1 and 2.<br>\n",
       "<pre>         <mark>Search 11, A* with setlevel heuristic</mark>: aborted after 1 hour.<pre>\n",
       "      </figcaption>\n",
       "    </figure>\n",
       "    </div>"
      ],
      "text/plain": [
       "<IPython.core.display.HTML object>"
      ]
     },
     "execution_count": 2,
     "metadata": {},
     "output_type": "execute_result"
    },
    {
     "data": {
      "text/html": [
       "<div style=\"{width: 80%}\"><div style=\"float:left; width:100%; padding:1px;\">\n",
       "      <div style=\"float:left; width:50%; padding:2px;\">\n",
       "        <table border=\"1\"  style=\"text-align: center;\">\n",
       "  <thead>\n",
       "    <tr>\n",
       "      <th>Search function</th>\n",
       "      <th>Frequency where PlanLength &gt;=10</th>\n",
       "    </tr>\n",
       "  </thead>\n",
       "  <tbody>\n",
       "    <tr>\n",
       "      <td>greedy_best_first_graph_search</td>\n",
       "      <td>8</td>\n",
       "    </tr>\n",
       "    <tr>\n",
       "      <td>depth_first_graph_search</td>\n",
       "      <td>4</td>\n",
       "    </tr>\n",
       "    <tr>\n",
       "      <td>breadth_first_search</td>\n",
       "      <td>2</td>\n",
       "    </tr>\n",
       "    <tr>\n",
       "      <td>astar_search</td>\n",
       "      <td>2</td>\n",
       "    </tr>\n",
       "  </tbody>\n",
       "</table>\n",
       "       </div>\n",
       "      <div style=\"float:left; width:50%; padding:2px;\">\n",
       "        <table border=\"1\"  style=\"text-align: center;\">\n",
       "  <thead>\n",
       "    <tr>\n",
       "      <th>Search function</th>\n",
       "      <th>Frequency where PlanLength &lt;10</th>\n",
       "    </tr>\n",
       "  </thead>\n",
       "  <tbody>\n",
       "    <tr>\n",
       "      <td>greedy_best_first_graph_search</td>\n",
       "      <td>8</td>\n",
       "    </tr>\n",
       "    <tr>\n",
       "      <td>astar_search</td>\n",
       "      <td>8</td>\n",
       "    </tr>\n",
       "    <tr>\n",
       "      <td>uniform_cost_search</td>\n",
       "      <td>2</td>\n",
       "    </tr>\n",
       "    <tr>\n",
       "      <td>breadth_first_search</td>\n",
       "      <td>2</td>\n",
       "    </tr>\n",
       "  </tbody>\n",
       "</table>\n",
       "      </div>\n",
       "    </div></div>"
      ],
      "text/plain": [
       "<IPython.core.display.HTML object>"
      ]
     },
     "execution_count": 2,
     "metadata": {},
     "output_type": "execute_result"
    },
    {
     "data": {
      "text/html": [
       "<div style=\"{width: 80%}\">Out of 36 completed searches, 44% (16), have double-digit or longer PlanLength.<br>In that subset, 12 (75%) involve the search functions `greedy_best_first_graph_search` and `depth_first_graph_search`. And this occurs for all Problems.<br></div>"
      ],
      "text/plain": [
       "<IPython.core.display.HTML object>"
      ]
     },
     "execution_count": 2,
     "metadata": {},
     "output_type": "execute_result"
    },
    {
     "data": {
      "text/html": [
       "<div style=\"{width: 80%}\">Out of 36 completed searches, 56% (20), have single-digit or longer PlanLength.<br>In that subset, 16 (80%) involve the search functions `greedy_best_first_graph_search` and `astar_search`. And this occurs only for Problems: 2,1.<br><br></div>"
      ],
      "text/plain": [
       "<IPython.core.display.HTML object>"
      ]
     },
     "execution_count": 2,
     "metadata": {},
     "output_type": "execute_result"
    },
    {
     "data": {
      "text/html": [
       "<div style=\"{width: 80%}\">\n",
       "<h3>* Anwers to questions</h3>\n",
       "<blockquote class=\"w3-panel w3-leftbar w3-light-grey\">\n",
       "<strong>Question 1:</strong>\n",
       "<p style=\"font-size:110%;\">\n",
       "Which algorithm(s) would be most appropriate for planning in a very restricted domain\n",
       "(i.e., one that has only a few actions) and needs to operate in real time?\n",
       "</p>\n",
       "</blockquote>\n",
       "<blockquote class=\"w3-panel w3-leftbar w3-light-grey\">\n",
       "<strong>&#187; Answer:</strong>\n",
       "<p style=\"font-size:110%;\">\n",
       "A domain with few actions would be like Problem 1. All search algorithms would be appropriate in this case as they all performed under 1 second.\n",
       "</p>\n",
       "</blockquote>\n",
       "<blockquote class=\"w3-panel w3-leftbar w3-light-grey\">\n",
       "<strong>Question 2:</strong>\n",
       "<p style=\"font-size:110%;\">\n",
       "Which algorithm or algorithms would be most appropriate for planning in very large domains \n",
       "(e.g., planning delivery routes for all UPS drivers in the U.S. on a given day.)\n",
       "</p>\n",
       "</blockquote>\n",
       "<blockquote class=\"w3-panel w3-leftbar w3-light-grey\">\n",
       "<strong>&#187; Answer:</strong>\n",
       "<p style=\"font-size:110%;\">\n",
       "For problems with more than 100 and with a search time restricted to under 1 second, algorithm <b>4</b>: <i>greedy_best_first_graph_search h_unmet_goals</i> would be the best.\n",
       "</p>\n",
       "</blockquote>\n",
       "<blockquote class=\"w3-panel w3-leftbar w3-light-grey\">\n",
       "<strong>Question 3:</strong>\n",
       "<p style=\"font-size:110%;\">\n",
       "Which algorithm(s) would be most appropriate for planning problems where it is important to find only optimal plans?\n",
       "</p>\n",
       "</blockquote>\n",
       "<blockquote class=\"w3-panel w3-leftbar w3-light-grey\">\n",
       "<strong>&#187; Answer:</strong>\n",
       "<p style=\"font-size:110%;\">\n",
       "The algorithms that guarantee to find the shortest path and are thus optimal are: <b>1</b>: <i>breadth_first_search</i> and <b>3</b>: <i>uniform_cost_search</i>.\n",
       "</p>\n",
       "</blockquote>\n",
       "</div>"
      ],
      "text/plain": [
       "<IPython.core.display.HTML object>"
      ]
     },
     "execution_count": 2,
     "metadata": {},
     "output_type": "execute_result"
    }
   ],
   "source": [
    "# title\n",
    "add_div_around_html(cr.report_parts[0])\n",
    "\n",
    "# intro\n",
    "add_div_around_html(cr.report_parts[1])\n",
    "\n",
    "# analysis_12\n",
    "add_div_around_html(cr.report_parts[2])\n",
    "\n",
    "# complexities\n",
    "add_div_around_html(cr.report_parts[3])\n",
    "\n",
    "# fig1\n",
    "add_div_around_html(cr.html_fig(1))\n",
    "\n",
    "# fig2\n",
    "add_div_around_html(cr.html_fig(2))\n",
    "\n",
    "# insights\n",
    "add_div_around_html(cr.report_parts[4])\n",
    "\n",
    "# p34_intro\n",
    "add_div_around_html(cr.report_parts[5])\n",
    "\n",
    "# fig3\n",
    "add_div_around_html(cr.html_fig(3))\n",
    "\n",
    "# fig4\n",
    "add_div_around_html(cr.html_fig(4))\n",
    "\n",
    "# tables_in_row    \n",
    "add_div_around_html(cr.report_parts[6])\n",
    "\n",
    "# dbl_para\n",
    "add_div_around_html(cr.report_parts[7])\n",
    "\n",
    "# sgl_para   \n",
    "add_div_around_html(cr.report_parts[8])\n",
    "\n",
    "# answers\n",
    "add_div_around_html(cr.report_parts[9])"
   ]
  },
  {
   "cell_type": "code",
   "execution_count": null,
   "metadata": {},
   "outputs": [],
   "source": []
  }
 ],
 "metadata": {
  "kernelspec": {
   "display_name": "Python 3",
   "language": "python",
   "name": "python3"
  },
  "language_info": {
   "codemirror_mode": {
    "name": "ipython",
    "version": 3
   },
   "file_extension": ".py",
   "mimetype": "text/x-python",
   "name": "python",
   "nbconvert_exporter": "python",
   "pygments_lexer": "ipython3",
   "version": "3.6.7"
  }
 },
 "nbformat": 4,
 "nbformat_minor": 4
}
