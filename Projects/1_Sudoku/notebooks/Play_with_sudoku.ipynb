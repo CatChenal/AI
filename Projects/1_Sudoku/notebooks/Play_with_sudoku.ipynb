{
 "cells": [
  {
   "cell_type": "markdown",
   "metadata": {},
   "source": [
    "# Play with sudoku\n",
    "---"
   ]
  },
  {
   "cell_type": "code",
   "execution_count": 1,
   "metadata": {},
   "outputs": [
    {
     "name": "stdout",
     "output_type": "stream",
     "text": [
      "Python: 3.6.7 (default, Feb 28 2019, 07:28:18) [MSC v.1900 64 bit (AMD64)]; sys.prefix: C:\\Users\\catch\\Anaconda3\\envs\\dsml\n",
      "\n",
      "Currrent dir: C:\\Users\\catch\\Documents\\GH_Projects\\Udacity_AI\\notebooks\n",
      "Path added to sys.path: C:\\Users\\catch\\Documents\\GH_Projects\\Udacity_AI\n"
     ]
    }
   ],
   "source": [
    "# %load nb_cell0.py\n",
    "import os\n",
    "import sys\n",
    "from pathlib import Path\n",
    "\n",
    "print('Python: {}; sys.prefix: {}\\n'.format(sys.version, sys.prefix))\n",
    "print('Currrent dir:', Path.cwd())\n",
    "\n",
    "\n",
    "# TODO: convert os. code to work with Path\n",
    "def add_to_sys_path(this_path, up=False):\n",
    "    \"\"\"\n",
    "    Prepend this_path to sys.path.\n",
    "    If up=True, path refers to parent folder (1 level up).\n",
    "    \"\"\"\n",
    "    for p in sys.path:\n",
    "        p = os.path.abspath(p)\n",
    "    if up:\n",
    "        newp = os.path.abspath(os.path.join(this_path, '..'))\n",
    "    else:\n",
    "        newp = os.path.abspath(this_path)\n",
    "        \n",
    "    if this_path not in (p, p + os.sep):\n",
    "        print('Path added to sys.path: {}'.format(newp))\n",
    "        sys.path.insert(0, newp)\n",
    "        \n",
    "# if notebook inside another folder, eg ./notebooks:\n",
    "up =  os.path.abspath(os.path.curdir).endswith('notebooks')\n",
    "add_to_sys_path(os.path.curdir, up)\n",
    "\n",
    "if up:\n",
    "    DIR_IMG = Path.cwd().parent.joinpath('Images')\n",
    "else:\n",
    "    DIR_IMG = Path.cwd().joinpath('Images')\n",
    "if not DIR_IMG.exists():\n",
    "    Path.mkdir(DIR_IMG)\n",
    "    \n",
    "    \n",
    "import numpy as np\n",
    "import pandas as pd\n",
    "pd.set_option(\"display.max_colwidth\", 200)\n",
    "\n",
    "import matplotlib as mpl\n",
    "import matplotlib.pyplot as plt\n",
    "\n",
    "from pprint import pprint as pp\n",
    "\n",
    "from IPython.core.interactiveshell import InteractiveShell\n",
    "InteractiveShell.ast_node_interactivity = \"all\"\n",
    "from IPython.display import HTML, Markdown, IFrame, Image\n",
    "\n",
    "#display(HTML(\"<style>.container { width:100% !important; }</style>\"))\n",
    "\n",
    "def new_section(title):\n",
    "    style = \"text-align:center;background:#c2d3ef;padding:20px;color:#ffffff;font-size:3em;width:98%\"\n",
    "    return HTML('<div style=\"{}\">{}</div>'.format(style, title))\n",
    "\n",
    "def filter_dir(obj, start_with_str='_', exclude=True):\n",
    "    return [d for d in dir(obj) if not d.startswith(start_with_str) == exclude]\n",
    "\n",
    "import inspect\n",
    "\n",
    "def get_mdl_pkgs(alib):\n",
    "    \"Inspect module hierarchy on two levels ony.\"\n",
    "    pkgs = {}\n",
    "    for name, mdl in inspect.getmembers(alib, inspect.ismodule):\n",
    "        print('\\n{:>13} : {}'.format(mdl.__name__, filter_dir(mdl)))\n",
    "        for mdl_name, mdl_sub in inspect.getmembers(mdl, inspect.ismodule):\n",
    "            if mdl_sub.__doc__:\n",
    "                print('\\n{:>20} : {}'.format(mdl_name, mdl_sub.__doc__.strip()))\n",
    "\n",
    "%load_ext autoreload\n",
    "%autoreload 2 "
   ]
  },
  {
   "cell_type": "code",
   "execution_count": 440,
   "metadata": {},
   "outputs": [],
   "source": [
    "import random\n",
    "\n",
    "# Number of initial digits to show per level:\n",
    "#  1:easy, 2:medium, 3:difficult:\n",
    "LEVELS = {1:4, 2:3, 3:2}\n",
    "\n",
    "\n",
    "def check_game(grid):\n",
    "    \"\"\" Return True if grid is a valid Sudoku square, otherwise False. \"\"\"\n",
    "    out = []\n",
    "    print('Checking game: uniq vals, idx, count')\n",
    "    for i in range(9):\n",
    "        au, ai, ac = np.unique(grid[i,:], return_index=True, return_counts=True)\n",
    "        print(f'Row_{i}:', au, ai, ac)\n",
    "        au, ai, ac = np.unique(grid[:, i], return_index=True, return_counts=True)\n",
    "        print(f'Col_{i}:', au, ai, ac)\n",
    "        # j, k index top left hand corner of each 3x3 tile\n",
    "        j, k = (i // 3) * 3, (i % 3) * 3\n",
    "        au, ai, ac = np.unique(grid[i,:], return_index=True, return_counts=True)\n",
    "        print(f'Box_{j}:', au, ai, ac)\n",
    "        \n",
    "    return\n",
    "\n",
    "\n",
    "def check_box_sudoku(cell):\n",
    "    \"\"\" Return True if 3x3 box containing cell(j, k) is valid. \"\"\"\n",
    "    # j, k index top left hand corner of each 3x3 tile\n",
    "    j, k = (cell[0] // 3) * 3, (cell[1] % 3) * 3\n",
    "    if len(set(grid[j:j+3, k:k+3].ravel())) != 9:\n",
    "        return False\n",
    "    return True\n",
    "\n",
    "\n",
    "def init_sudoku0(level=1):\n",
    "    game0 = np.zeros((9,9), dtype='int8')\n",
    "\n",
    "    gl = LEVELS[level]\n",
    "    digits = np.arange(1, 10)\n",
    "    \n",
    "    for i in range(9):    \n",
    "        # create a non-repeating selection of digits of size gl:\n",
    "        idx_set = random.sample(range(1, 10), gl)\n",
    "        #print(i, idx_set)\n",
    "        \n",
    "        c, k = (i // 3) * 3, (i % 3) * 3\n",
    "        #sq_3 = game0[c:c+3, c:c+3].ravel()\n",
    "        #print('sq_3',sq_3)\n",
    "            \n",
    "        for j in idx_set:\n",
    "            x = digits[np.random.choice(digits,1)-1][0]\n",
    "            #print('x',x)\n",
    "            game0[i, j-1] = x\n",
    "            \n",
    "            # define 3x3 square:\n",
    "            sq_3 = game0[c:c+3, c:c+3]#.ravel()\n",
    "            #print('sq_3',sq_3)\n",
    "            \n",
    "            s1 = set(game0[i, :])\n",
    "            s2 = set(game0[:, j-1])\n",
    "            s3 = set(sq_3[sq_3>0].ravel())\n",
    "            \n",
    "            sd = s1.symmetric_difference(s2).symmetric_difference(s3)\n",
    "            #print('sd',sd)\n",
    "            \n",
    "            if not len(sd):\n",
    "                if not len(s3):\n",
    "                    game0[i, j-1] = x\n",
    "                elif not x in s3:\n",
    "                    game0[i, j-1] = x\n",
    "            else:\n",
    "                if x not in sd:\n",
    "                    game0[i, j-1] = x\n",
    "                \n",
    "    return game0\n",
    "\n",
    "\n",
    "def init_sudoku1(level=1):\n",
    "    game0 = np.zeros((9,9), dtype='int8')\n",
    "\n",
    "    gl = LEVELS[level]\n",
    "    digits = np.arange(1, 10)\n",
    "    \n",
    "    for i in range(9):    \n",
    "        # create a non-repeating selection of digits of size gl:\n",
    "        idx_set = random.sample(list(digits), gl)\n",
    "\n",
    "        c, k = (i // 3) * 3, (i % 3) * 3\n",
    "        sq_3 = game0[c:c+3, c:c+3].ravel()\n",
    "        \n",
    "        s1 = set(game0[i, :])\n",
    "        \n",
    "        for j in idx_set:\n",
    "            x = digits[np.random.choice(digits, 1) - 1][0]\n",
    "            #while x == j:\n",
    "            #    x = digits[np.random.choice(digits, 1) - 1][0]\n",
    "            #print('x:', x)\n",
    "            #game0[i, j-1] = x\n",
    "            \n",
    "            #s1 = set(game0[i, :])\n",
    "            s2 = set(game0[:, j-1])\n",
    "            s3 = set(sq_3[sq_3>0])\n",
    "            \n",
    "            sd = s1.symmetric_difference(s2)\n",
    "            \n",
    "            if not len(sd):\n",
    "                if not len(s3):\n",
    "                    game0[i, j-1] = x\n",
    "                elif not x in s3:\n",
    "                    game0[i, j-1] = x\n",
    "            else:\n",
    "                if x not in sd:\n",
    "                    game0[i, j-1] = x\n",
    "                    \n",
    "    nz_indices = np.argwhere(game0)            \n",
    "    return game0, nz_indices\n",
    "\n",
    "\n",
    "def init_sudoku(level=1):\n",
    "\n",
    "    gl = LEVELS[level]\n",
    "    \n",
    "    board = []\n",
    "    digits = np.arange(1,10, dtype='int8')\n",
    "    board.append(digits)\n",
    "\n",
    "    # step 1: create a systemtically filled board\n",
    "    # according to a cyclic shifting scheme:\n",
    "    shift = 3\n",
    "    s0 = 0\n",
    "    for i in range(1, 9):\n",
    "        # shift initial row by 3  for 3 rows;\n",
    "        # reset initial row to 1st row shifted by s0;\n",
    "        # repeat until 3 3x3 squares are formed.\n",
    "        if (i % 3 == 0):\n",
    "            s0 += 1\n",
    "            a = np.roll(board[0], -s0)\n",
    "        else:\n",
    "            a = np.roll(board[i-1], -shift)\n",
    "        board.append(a)\n",
    "\n",
    "    board = np.array(board)\n",
    "    #print('board before shuffling:\\n', board)\n",
    "    \n",
    "    # step 2: shuffle the rows and column within each 3x3 square\n",
    "    for i in range(3):\n",
    "        r1, c1 = (i % 3) * 3, (i // 3) * 3\n",
    "        board[r1:r1+3, c1:c1+3] = np.random.permutation(board[r1:r1+3, c1:c1+3])\n",
    "    for i in range(3, 6):\n",
    "        r1, c1 = (i % 3) * 3, (i // 3) * 3\n",
    "        board[r1:r1+3, c1:c1+3] = np.random.permutation(board[r1:r1+3, c1:c1+3])\n",
    "    for i in range(6, 9):\n",
    "        r1, c1 = (i % 3) * 3, (i // 3) * 3\n",
    "        board[r1:r1+3, c1:c1+3] = np.random.permutation(board[r1:r1+3, c1:c1+3])\n",
    "\n",
    "    # step3: fill random cells with zeros according to level\n",
    "    tot = 81\n",
    "    keep = gl*9\n",
    "    hide = tot - keep\n",
    "    # set hide cell values to 0:\n",
    "    np.put(board, np.random.choice(range(tot), hide, replace=False), 0)\n",
    "    \n",
    "    return board.tolist()\n",
    "\n",
    "    \n",
    "def plot_sudoku(game, nz_cells, figsize=(6, 6), save_fig=None):\n",
    "    \"\"\"\n",
    "    Return a sudoku board with values in input array.\n",
    "    :param: game: a 9x9 array\n",
    "    \"\"\"\n",
    "    if isinstance(game, list):\n",
    "        game = np.array(game)\n",
    "        \n",
    "    # check 9x9:\n",
    "    if game.size != 81:\n",
    "        return 'Wrong sudoku dims! (9x9 expected)'\n",
    "    \n",
    "    plt.figure(figsize=figsize)\n",
    "    ax = plt.gca()\n",
    "    \n",
    "    lims = [0, 9]\n",
    "    \n",
    "    for x in range(9):\n",
    "        for y in range(9):\n",
    "            w = game[8-y][x]\n",
    "            if w > 0:\n",
    "                color = 'lightgrey'\n",
    "                plt.text(x+0.3, y+0.3, str(w), fontsize=20)\n",
    "            else:\n",
    "                color = 'white'\n",
    "            # bg color for initial cells only:\n",
    "            if [8-y, x] in nz_cells:\n",
    "                rect = plt.Rectangle([x, y], 1, 1, facecolor=color, edgecolor='grey')\n",
    "                ax.add_patch(rect)\n",
    "            \n",
    "            if y%3 == 0:\n",
    "                plt.plot(lims, [y,y], color='black', linewidth=2)\n",
    "                plt.plot([y,y], lims, color='black', linewidth=2)\n",
    "\n",
    "    # complete last edges:            \n",
    "    plt.plot(lims, [9,9], color='black', linewidth=2)\n",
    "    plt.plot([9,9], lims, color='black', linewidth=2)    \n",
    "\n",
    "    plt.axis('off')\n",
    "    \n",
    "    if save_fig:\n",
    "        plt.savefig(f'{save_fig}')\n",
    "    plt.show()\n",
    "    \n",
    "    \n",
    "def board_mask(game, k=None):\n",
    "    # mask fun to work with np.mask_indices\n",
    "    return game>0"
   ]
  },
  {
   "cell_type": "code",
   "execution_count": 441,
   "metadata": {},
   "outputs": [
    {
     "data": {
      "text/plain": [
       "array([[0, 0, 5, 2, 0, 3, 5, 0, 0],\n",
       "       [0, 2, 0, 0, 8, 0, 0, 7, 0],\n",
       "       [9, 0, 0, 1, 4, 0, 0, 0, 0],\n",
       "       [0, 7, 0, 0, 0, 0, 0, 0, 3],\n",
       "       [4, 0, 0, 5, 3, 0, 0, 4, 0],\n",
       "       [0, 0, 0, 7, 0, 0, 7, 0, 4],\n",
       "       [0, 0, 0, 0, 0, 0, 0, 3, 5],\n",
       "       [0, 3, 0, 0, 0, 6, 0, 0, 0],\n",
       "       [0, 9, 0, 0, 0, 7, 0, 1, 0]], dtype=int8)"
      ]
     },
     "execution_count": 441,
     "metadata": {},
     "output_type": "execute_result"
    },
    {
     "name": "stdout",
     "output_type": "stream",
     "text": [
      "Checking game: uniq vals, idx, count\n",
      "Row_0: [0 2 3 5] [0 3 5 2] [5 1 1 2]\n",
      "Col_0: [0 4 9] [0 4 2] [7 1 1]\n",
      "Box_0: [0 2 3 5] [0 3 5 2] [5 1 1 2]\n",
      "Row_1: [0 2 7 8] [0 1 7 4] [6 1 1 1]\n",
      "Col_1: [0 2 3 7 9] [0 1 7 3 8] [5 1 1 1 1]\n",
      "Box_0: [0 2 7 8] [0 1 7 4] [6 1 1 1]\n",
      "Row_2: [0 1 4 9] [1 3 4 0] [6 1 1 1]\n",
      "Col_2: [0 5] [1 0] [8 1]\n",
      "Box_0: [0 1 4 9] [1 3 4 0] [6 1 1 1]\n",
      "Row_3: [0 3 7] [0 8 1] [7 1 1]\n",
      "Col_3: [0 1 2 5 7] [1 2 0 4 5] [5 1 1 1 1]\n",
      "Box_3: [0 3 7] [0 8 1] [7 1 1]\n",
      "Row_4: [0 3 4 5] [1 4 0 3] [5 1 2 1]\n",
      "Col_4: [0 3 4 8] [0 4 2 1] [6 1 1 1]\n",
      "Box_3: [0 3 4 5] [1 4 0 3] [5 1 2 1]\n",
      "Row_5: [0 4 7] [0 8 3] [6 1 2]\n",
      "Col_5: [0 3 6 7] [1 0 7 8] [6 1 1 1]\n",
      "Box_3: [0 4 7] [0 8 3] [6 1 2]\n",
      "Row_6: [0 3 5] [0 7 8] [7 1 1]\n",
      "Col_6: [0 5 7] [1 0 5] [7 1 1]\n",
      "Box_6: [0 3 5] [0 7 8] [7 1 1]\n",
      "Row_7: [0 3 6] [0 1 5] [7 1 1]\n",
      "Col_7: [0 1 3 4 7] [0 8 6 4 1] [5 1 1 1 1]\n",
      "Box_6: [0 3 6] [0 1 5] [7 1 1]\n",
      "Row_8: [0 1 7 9] [0 7 5 1] [6 1 1 1]\n",
      "Col_8: [0 3 4 5] [0 3 5 6] [6 1 1 1]\n",
      "Box_6: [0 1 7 9] [0 7 5 1] [6 1 1 1]\n"
     ]
    }
   ],
   "source": [
    "game1, nzidx = init_sudoku1()\n",
    "game1\n",
    "\n",
    "check_game(game1)"
   ]
  },
  {
   "cell_type": "code",
   "execution_count": 437,
   "metadata": {},
   "outputs": [
    {
     "data": {
      "image/png": "[encoded data removed]",
      "text/plain": [
       "<Figure size 432x432 with 1 Axes>"
      ]
     },
     "metadata": {
      "needs_background": "light"
     },
     "output_type": "display_data"
    }
   ],
   "source": [
    "plot_sudoku(game1, nzidx)"
   ]
  },
  {
   "cell_type": "raw",
   "metadata": {},
   "source": [
    "plt.matshow(game1)\n",
    "plt.axis('off')\n",
    "plt.show();"
   ]
  },
  {
   "cell_type": "markdown",
   "metadata": {},
   "source": [
    "---\n",
    "Code for reference:"
   ]
  },
  {
   "cell_type": "raw",
   "metadata": {},
   "source": [
    "# solvable instance\n",
    "instance = [[0,0,0,0,9,4,0,3,0],\n",
    "            [0,0,0,5,1,0,0,0,7],\n",
    "            [0,8,9,0,0,0,0,4,0],\n",
    "            [0,0,0,0,0,0,2,0,8],\n",
    "            [0,6,0,2,0,1,0,5,0],\n",
    "            [1,0,2,0,0,0,0,0,0],\n",
    "            [0,7,0,0,0,0,5,2,0],\n",
    "            [9,0,0,0,6,5,0,0,0],\n",
    "            [0,4,0,9,7,0,0,0,0]]"
   ]
  },
  {
   "cell_type": "code",
   "execution_count": 65,
   "metadata": {},
   "outputs": [],
   "source": [
    "# my first attempt \n",
    "import random\n",
    "    \n",
    "# number of initial digits to show per level:\n",
    "#  1:easy, 2:medium, 3:difficult:\n",
    "LEVELS = {1:4, 2:3, 3:2}\n",
    "\n",
    "\n",
    "def select_uniq_digits(game_level=1):\n",
    "    choices = list(np.arange(1,10))\n",
    "    s_choices = set(choices)\n",
    "    \n",
    "    gl = LEVELS[game_level]\n",
    "    #a = np.random.randint(0,9, gl)\n",
    "    a = random.sample(choices, gl)\n",
    "    #print('choices:', choices, '\\na      :',a)\n",
    "\n",
    "    au, ai, ac = np.unique(a, return_index=True, return_counts=True)\n",
    "    ix = np.where(ac>1)\n",
    "\n",
    "    if len(ix):\n",
    "        for i, x in enumerate(ix):\n",
    "            if len(x):\n",
    "                xx = ai[x][0]\n",
    "                sd = s_choices.symmetric_difference(set(a))\n",
    "                new = np.choose([0], list(sd))\n",
    "                a[xx] = new\n",
    "\n",
    "    return np.choose(a, choices).flatten()"
   ]
  },
  {
   "cell_type": "code",
   "execution_count": 194,
   "metadata": {},
   "outputs": [],
   "source": [
    "def check_rc(ar, i, axis):\n",
    "    # determines number of unique elements in each row (axis=0) or column (axis!=1)\n",
    "    # alt way:\n",
    "    if axis == 0:\n",
    "        print(ar[i,:])\n",
    "        au, ai, ac = np.unique(ar[i,:], return_index=True, return_counts=True)\n",
    "    else:\n",
    "        print(ar[:,i])\n",
    "        au, ai, ac = np.unique(ar[:,i], return_index=True, return_counts=True)   \n",
    "    print(au)\n",
    "    print(ai)\n",
    "    print(ac)\n",
    "    nu_uniq = ac.sum()\n",
    "    return nu_uniq\n",
    "\n",
    "def check_box(i, board):\n",
    "    # is_unique & >0\n",
    "    \n",
    "    c, k = (i // 3) * 3, (i % 3) * 3\n",
    "    b = board[c:c+3, c:c+3]\n",
    "    au, ai, ac = np.unique(b, return_index=True, return_counts=True)\n",
    "    if au[0] == 0:\n",
    "        # resize:\n",
    "        au = au[1:]\n",
    "        ai = ai[1:]\n",
    "        ac = ac[1:]\n",
    "    \n",
    "    assert(len(au) == ac.sum())\n",
    "    \n",
    "    return b, au, ai, ac"
   ]
  },
  {
   "cell_type": "code",
   "execution_count": 171,
   "metadata": {},
   "outputs": [
    {
     "data": {
      "text/plain": [
       "array([[7, 8, 9, 0, 0, 0, 7, 8, 0],\n",
       "       [4, 5, 0, 4, 0, 0, 4, 0, 0],\n",
       "       [0, 0, 0, 7, 0, 0, 0, 2, 3],\n",
       "       [8, 0, 0, 0, 6, 0, 5, 6, 0],\n",
       "       [0, 6, 7, 2, 0, 4, 0, 0, 0],\n",
       "       [0, 0, 4, 8, 0, 1, 0, 9, 1],\n",
       "       [9, 1, 0, 3, 4, 0, 3, 0, 5],\n",
       "       [0, 4, 0, 0, 7, 0, 0, 0, 0],\n",
       "       [0, 0, 0, 0, 1, 0, 6, 7, 0]])"
      ]
     },
     "execution_count": 171,
     "metadata": {},
     "output_type": "execute_result"
    }
   ],
   "source": [
    "print('board:')\n",
    "game"
   ]
  },
  {
   "cell_type": "code",
   "execution_count": 195,
   "metadata": {},
   "outputs": [
    {
     "data": {
      "text/plain": [
       "(array([[0, 6, 0],\n",
       "        [2, 0, 4],\n",
       "        [8, 0, 1]]),\n",
       " array([1, 2, 4, 6, 8]),\n",
       " array([8, 3, 5, 1, 6], dtype=int64),\n",
       " array([1, 1, 1, 1, 1], dtype=int64))"
      ]
     },
     "execution_count": 195,
     "metadata": {},
     "output_type": "execute_result"
    }
   ],
   "source": [
    "b, au, ai, ac = check_box(5, game)\n",
    "b, au, ai, ac"
   ]
  },
  {
   "cell_type": "markdown",
   "metadata": {},
   "source": [
    "# Sudoku with SA (simulated annealing)\n",
    "### http://iacs-courses.seas.harvard.edu/courses/am207/blog/lab-7.html"
   ]
  },
  {
   "cell_type": "markdown",
   "metadata": {},
   "source": [
    "Let's consider what a correct solution would look like.  \n",
    "It would have only unique integers in each row, column and 3x3 box.  \n",
    "So, if in a particular row, we had the same number twice, then this must be wrong, and this row would not have $E=0$, but $E=1$, i.e., there is 1 incorrect number.  \n",
    "So, the energy of our system is simply the sum of all non-unique numbers in each column, row and 3x3 box.  \n",
    "\n",
    "Conversely, we can think of this as the number of unique elements in each row, column, and box, and then we get back to $E=0$ by susbtracting what the enrgy of a correct solution would be:  \n",
    "$9 \\times 9 \\times 3 = 243$,\n",
    "\n",
    "$ E_{\\rm tot} = 243 - \\sum_{i,j,k} E_{\\rm row,i} + E_{\\rm col,j} + E_{box,k}$"
   ]
  },
  {
   "cell_type": "code",
   "execution_count": 147,
   "metadata": {},
   "outputs": [],
   "source": [
    "def check(i, axis, n):\n",
    "    # determines number of unique elements in each row (axis=0) or column (axis!=1)\n",
    "    nums = np.arange(9) + 1\n",
    "    nu = 0\n",
    "    for j in range(9):\n",
    "        if axis == 0:\n",
    "            i1 = n[i][j]-1\n",
    "        else:\n",
    "            i1 = n[j][i]-1\n",
    "\n",
    "        if i1 == -1: # Quick check that there are no zeros\n",
    "            return -1\n",
    "        \n",
    "        if nums[i1]!=0:\n",
    "            nu+=1\n",
    "            nums[i1]=0\n",
    "  \n",
    "    return nu\n",
    "\n",
    "\n",
    "def checksq(isq, jsq, n):\n",
    "    # determines number of unique elements in square isq, jsq\n",
    "    nums=np.arange(9)+1\n",
    "    nu = 0\n",
    "    i0 = isq*3\n",
    "    j0 = jsq*3\n",
    "    for i in range(3):\n",
    "        for j in range(3):\n",
    "            i1 = n[i0+i][j0+j] - 1\n",
    "\n",
    "            if i1==-1: # Quick check that there are no zeros\n",
    "                return -1\n",
    "        \n",
    "            if nums[i1]!=0:\n",
    "                nu+=1\n",
    "                nums[i1]=0\n",
    "                \n",
    "    return nu\n",
    "\n",
    "def calc_energy(n):\n",
    "    # computes the \"energy\" of the input grid configuration\n",
    "    sum = 0\n",
    "    for i in range(9):\n",
    "        sum += check(i,1,n) + check(i,2,n)\n",
    "    \n",
    "    for i in range(3):\n",
    "        for j in range(3):\n",
    "            sum += checksq(i,j,n)\n",
    "    # 243 = 9*9*3? why not 9*9*9?\n",
    "    \n",
    "    return 243 - sum"
   ]
  },
  {
   "cell_type": "code",
   "execution_count": 453,
   "metadata": {},
   "outputs": [
    {
     "data": {
      "image/png": "[encoded data removed]",
      "text/plain": [
       "<Figure size 432x432 with 1 Axes>"
      ]
     },
     "metadata": {
      "needs_background": "light"
     },
     "output_type": "display_data"
    }
   ],
   "source": [
    "sudoku_hard = np.array([[0,0,0,9,0,0,7,2,8],\n",
    "                      [2,7,8,0,0,3,0,1,0],\n",
    "                      [0,9,0,0,0,0,6,4,0],\n",
    "                      [0,5,0,0,6,0,2,0,0],\n",
    "                      [0,0,6,0,0,0,3,0,0],\n",
    "                      [0,1,0,0,5,0,0,0,0],\n",
    "                      [1,0,0,7,0,6,0,3,4],\n",
    "                      [0,0,0,5,0,4,0,0,0],\n",
    "                      [7,0,9,1,0,0,8,0,5]])\n",
    "\n",
    "nz_indices = np.argwhere(sudoku_hard)\n",
    "plot_sudoku(sudoku_hard, nz_indices)"
   ]
  },
  {
   "cell_type": "code",
   "execution_count": 454,
   "metadata": {},
   "outputs": [
    {
     "data": {
      "text/plain": [
       "array([[0, 3],\n",
       "       [0, 6],\n",
       "       [0, 7],\n",
       "       [0, 8],\n",
       "       [1, 0],\n",
       "       [1, 1],\n",
       "       [1, 2],\n",
       "       [1, 5],\n",
       "       [1, 7],\n",
       "       [2, 1],\n",
       "       [2, 6],\n",
       "       [2, 7],\n",
       "       [3, 1],\n",
       "       [3, 4],\n",
       "       [3, 6],\n",
       "       [4, 2],\n",
       "       [4, 6],\n",
       "       [5, 1],\n",
       "       [5, 4],\n",
       "       [6, 0],\n",
       "       [6, 3],\n",
       "       [6, 5],\n",
       "       [6, 7],\n",
       "       [6, 8],\n",
       "       [7, 3],\n",
       "       [7, 5],\n",
       "       [8, 0],\n",
       "       [8, 2],\n",
       "       [8, 3],\n",
       "       [8, 6],\n",
       "       [8, 8]], dtype=int64)"
      ]
     },
     "execution_count": 454,
     "metadata": {},
     "output_type": "execute_result"
    }
   ],
   "source": [
    "nz_indices"
   ]
  },
  {
   "cell_type": "code",
   "execution_count": 455,
   "metadata": {},
   "outputs": [
    {
     "name": "stdout",
     "output_type": "stream",
     "text": [
      "The system Energy of the initial configuration is: 270\n"
     ]
    }
   ],
   "source": [
    "# What is the energy of our starting position?\n",
    "e_prev = calc_energy(sudoku_hard)\n",
    "print('The system Energy of the initial configuration is:', e_prev)"
   ]
  },
  {
   "cell_type": "markdown",
   "metadata": {},
   "source": [
    "It's important to remember which are the fixed numbers specific to this puzzle, these cannot be moved between interations. We can just use a mask for this."
   ]
  },
  {
   "cell_type": "code",
   "execution_count": 457,
   "metadata": {},
   "outputs": [],
   "source": [
    "board = sudoku_hard\n",
    "mask = board>0"
   ]
  },
  {
   "cell_type": "code",
   "execution_count": 458,
   "metadata": {},
   "outputs": [
    {
     "data": {
      "image/png": "[encoded data removed]",
      "text/plain": [
       "<Figure size 432x432 with 1 Axes>"
      ]
     },
     "metadata": {
      "needs_background": "light"
     },
     "output_type": "display_data"
    }
   ],
   "source": [
    "# Assign the remaining integers to open cells so that each block contains all integers once only.\n",
    "for ib in range(3):\n",
    "    for jb in range(3):\n",
    "\n",
    "        nums = np.arange(9) + 1  #{1,2...8,9}\n",
    "        for i in range(3):\n",
    "            for j in range(3):\n",
    "                i1 = ib*3 + i\n",
    "                j1 = jb*3 + j\n",
    "\n",
    "                if board[i1][j1]!=0:\n",
    "                    ix = board[i1][j1]\n",
    "                    # replace the already used number with 0\n",
    "                    nums[ix-1]=0\n",
    "\n",
    "        # Now we have an array that contains the unused numbers.\n",
    "        # So we populate using that array.\n",
    "        iy = -1\n",
    "        num1 = np.zeros(sum(nums>0))\n",
    "        for k in range(9):\n",
    "            if nums[k] != 0:\n",
    "                iy += 1\n",
    "                num1[iy] = nums[k]\n",
    "\n",
    "        kk = 0\n",
    "        for i in range(3):\n",
    "            for j in range(3):\n",
    "                i1 = ib*3 + i\n",
    "                j1 = jb*3 + j\n",
    "                if (board[i1][j1]==0):\n",
    "                    board[i1][j1] = num1[kk]\n",
    "                    kk+=1\n",
    "\n",
    "plot_sudoku(board, nz_indices)"
   ]
  },
  {
   "cell_type": "markdown",
   "metadata": {},
   "source": [
    "> How should we decide how to construct a proposal? If we are going to smart about this and use SA, then the proposal shouldn't just come out of thin air, it should be based loosely on the accepted grid from the previous iteration. So, we trade numbers. We take a 'movable' number at one grid space and swap it with the number at another grid space. But remember, we distributed the numbers so that in each 3x3 box we had the numbers 1-9. To maintain this, we should make sure that we only swap numbers within the same 3x3 box. We then compute the energy of our proposal grid. If the energy goes down, then we accept. Otherwise toss a coin according to,\n",
    "\n",
    "${\\rm randU}(1) < {\\rm exp}\\left[-\\Delta E / T\\right] $"
   ]
  },
  {
   "cell_type": "code",
   "execution_count": 459,
   "metadata": {},
   "outputs": [],
   "source": [
    "temp = 2.0 # starting temperature\n",
    "ntrials = 100000 # number of trials we are going to run\n",
    "therm = 0.9 # thermostat for the temperature when it's too hot\n",
    "reanneal = 1000 # how often do we apply the thermostat?\n",
    "\n",
    "def anneal(mat, temp, ntrials, therm, reanneal):\n",
    "    for ll in range(ntrial):\n",
    "\n",
    "        # at each step pick at random a block and two moveable elements in the block\n",
    "        ib,jb = 3*np.random.randint(3,size=2)\n",
    "\n",
    "        i1,j1 = np.random.randint(3,size=2)\n",
    "        while mat[ib+i1][jb+j1]:\n",
    "            i1,j1 = np.random.randint(3,size=2)\n",
    "\n",
    "        i2,j2 = np.random.randint(3,size=2)\n",
    "        while mat[ib+i2][jb+j2] or (i1==i2 and j1==j2):\n",
    "            i2,j2 = np.random.randint(3,size=2)\n",
    "\n",
    "        # swap the movable elements and compute the energy of the trial configuration\n",
    "        propose_n=n.copy()\n",
    "        propose_n[ib+i1][jb+j1] = n[ib+i2][jb+j2]\n",
    "        propose_n[ib+i2][jb+j2] = n[ib+i1][jb+j1]\n",
    "\n",
    "        # calculate the proposal system energy\n",
    "        e_new = calc_energy(propose_n)\n",
    "        deltaE = e_prev - e_new\n",
    "\n",
    "        # Check the SA criterion\n",
    "        if e_new < e_prev:\n",
    "            e_prev = e_new\n",
    "            n = propose_n\n",
    "        else:\n",
    "            if np.random.rand() < np.exp( float(deltaE)/temp):\n",
    "                e_prev = e_new\n",
    "                n = propose_n\n",
    "\n",
    "        # stop computing if the solution is found\n",
    "        if e_prev==0:\n",
    "            break\n",
    "\n",
    "        if(ll % reanneal) == 0:\n",
    "            temp = temp * therm\n",
    "            if temp < 0.1:\n",
    "                temp = 0.5\n",
    "\n",
    "        # is the code still running properly...?\n",
    "        if (ll % 5000) == 0:\n",
    "            print(ll, np.exp(float(deltaE)/temp), e_prev, e_new)\n",
    "\n",
    "    if e_prev == 0:\n",
    "        print(f'Solution found after {ll} steps')\n",
    "        #plot_sudoku(n)\n",
    "        return n\n",
    "    else:\n",
    "        print('Solution not found with given parameters')\n",
    "        return None"
   ]
  },
  {
   "cell_type": "code",
   "execution_count": null,
   "metadata": {},
   "outputs": [],
   "source": []
  },
  {
   "cell_type": "markdown",
   "metadata": {},
   "source": [
    "---\n",
    "# plt.matshow"
   ]
  },
  {
   "cell_type": "code",
   "execution_count": 22,
   "metadata": {},
   "outputs": [],
   "source": [
    "from matplotlib import cm\n",
    "from matplotlib.colors import ListedColormap, LinearSegmentedColormap"
   ]
  },
  {
   "cell_type": "code",
   "execution_count": 19,
   "metadata": {},
   "outputs": [
    {
     "name": "stdout",
     "output_type": "stream",
     "text": [
      "(0.267004, 0.004874, 0.329415, 1.0)\n",
      "(0.127568, 0.566949, 0.550556, 1.0)\n",
      "(0.993248, 0.906157, 0.143936, 1.0)\n"
     ]
    }
   ],
   "source": [
    "n = 81//3\n",
    "viridis = cm.get_cmap('viridis', n)\n",
    "\n",
    "# The object viridis is a callable, that when passed a float between 0 and 1 returns an RGBA value from the colormap:\n",
    "print(viridis(0.))\n",
    "print(viridis(0.5))\n",
    "print(viridis(1.))\n",
    "\n",
    "# The list of colors that comprise the colormap can be directly accessed using the colors property, or it can be accessed indirectly by calling viridis with an array of values matching the length of the colormap. Note that the returned list is in the form of an RGBA Nx4 array, where N is the length of the colormap.\n",
    "#print('viridis.colors\\n', viridis.colors)\n",
    "#print(f'viridis(range({n})):\\n{viridis(range(n))}')\n",
    "#print('viridis(np.linspace(0, 1, 9))\\n', viridis(np.linspace(0, 1, n)))"
   ]
  },
  {
   "cell_type": "code",
   "execution_count": 20,
   "metadata": {},
   "outputs": [],
   "source": [
    "def plot_examples(cms):\n",
    "    \"\"\"\n",
    "    helper function to plot two colormaps\n",
    "    \"\"\"\n",
    "    np.random.seed(19680801)\n",
    "    data = np.random.randn(30, 30)\n",
    "\n",
    "    fig, axs = plt.subplots(1, 2, figsize=(6, 3), constrained_layout=True)\n",
    "    for [ax, cmap] in zip(axs, cms):\n",
    "        psm = ax.pcolormesh(data, cmap=cmap, rasterized=True, vmin=-4, vmax=4)\n",
    "        fig.colorbar(psm, ax=ax)\n",
    "    plt.show()"
   ]
  },
  {
   "cell_type": "code",
   "execution_count": 24,
   "metadata": {},
   "outputs": [
    {
     "data": {
      "image/png": "[encoded data removed]",
      "text/plain": [
       "<Figure size 432x216 with 4 Axes>"
      ]
     },
     "metadata": {
      "needs_background": "light"
     },
     "output_type": "display_data"
    }
   ],
   "source": [
    "top = cm.get_cmap('Oranges_r', 5)\n",
    "bottom = cm.get_cmap('Blues', 5)\n",
    "\n",
    "newcolors = np.vstack((top(np.linspace(0, 1, 5)),\n",
    "                       bottom(np.linspace(0, 1, 5))))\n",
    "newcmp = ListedColormap(newcolors, name='OrangeBlue')\n",
    "plot_examples([viridis, newcmp])"
   ]
  },
  {
   "cell_type": "code",
   "execution_count": 3,
   "metadata": {},
   "outputs": [
    {
     "data": {
      "image/png": "[encoded data removed]",
      "text/plain": [
       "<Figure size 288x288 with 1 Axes>"
      ]
     },
     "metadata": {
      "needs_background": "light"
     },
     "output_type": "display_data"
    }
   ],
   "source": [
    "def samplemat(dims):\n",
    "    \"\"\"Make a matrix with all zeros and increasing elements on the diagonal\"\"\"\n",
    "    aa = np.zeros(dims)\n",
    "    for i in range(min(dims)):\n",
    "        aa[i, i] = i\n",
    "    return aa\n",
    "\n",
    "\n",
    "# Display matrix\n",
    "plt.matshow(samplemat((9,9)))\n",
    "plt.show();"
   ]
  },
  {
   "cell_type": "markdown",
   "metadata": {},
   "source": [
    "***"
   ]
  }
 ],
 "metadata": {
  "kernelspec": {
   "display_name": "Python 3",
   "language": "python",
   "name": "python3"
  },
  "language_info": {
   "codemirror_mode": {
    "name": "ipython",
    "version": 3
   },
   "file_extension": ".py",
   "mimetype": "text/x-python",
   "name": "python",
   "nbconvert_exporter": "python",
   "pygments_lexer": "ipython3",
   "version": "3.6.7"
  }
 },
 "nbformat": 4,
 "nbformat_minor": 4
}
