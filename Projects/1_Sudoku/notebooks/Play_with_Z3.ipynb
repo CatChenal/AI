{
 "cells": [
  {
   "cell_type": "markdown",
   "metadata": {},
   "source": [
    "# Z3 solver examples\n",
    "---"
   ]
  },
  {
   "cell_type": "code",
   "execution_count": 1,
   "metadata": {},
   "outputs": [
    {
     "name": "stdout",
     "output_type": "stream",
     "text": [
      "Python: 3.6.7 (default, Feb 28 2019, 07:28:18) [MSC v.1900 64 bit (AMD64)]; sys.prefix: C:\\Users\\catch\\Anaconda3\\envs\\dsml\n",
      "\n",
      "Currrent dir: C:\\Users\\catch\\Documents\\GH_Projects\\Solvers\\notebooks\n",
      "Path added to sys.path: C:\\Users\\catch\\Documents\\GH_Projects\\Solvers\n"
     ]
    }
   ],
   "source": [
    "# %load nb_cell0.py\n",
    "import os\n",
    "import sys\n",
    "from pathlib import Path\n",
    "\n",
    "print('Python: {}; sys.prefix: {}\\n'.format(sys.version, sys.prefix))\n",
    "print('Currrent dir:', Path.cwd())\n",
    "\n",
    "\n",
    "# TODO: convert os. code to work with Path\n",
    "def add_to_sys_path(this_path, up=False):\n",
    "    \"\"\"\n",
    "    Prepend this_path to sys.path.\n",
    "    If up=True, path refers to parent folder (1 level up).\n",
    "    \"\"\"\n",
    "    for p in sys.path:\n",
    "        p = os.path.abspath(p)\n",
    "    if up:\n",
    "        newp = os.path.abspath(os.path.join(this_path, '..'))\n",
    "    else:\n",
    "        newp = os.path.abspath(this_path)\n",
    "        \n",
    "    if this_path not in (p, p + os.sep):\n",
    "        print('Path added to sys.path: {}'.format(newp))\n",
    "        sys.path.insert(0, newp)\n",
    "        \n",
    "# if notebook inside another folder, eg ./notebooks:\n",
    "up =  os.path.abspath(os.path.curdir).endswith('notebooks')\n",
    "add_to_sys_path(os.path.curdir, up)\n",
    "\n",
    "if up:\n",
    "    DIR_IMG = Path.cwd().parent.joinpath('Images')\n",
    "else:\n",
    "    DIR_IMG = Path.cwd().joinpath('Images')\n",
    "if not DIR_IMG.exists():\n",
    "    Path.mkdir(DIR_IMG)\n",
    "    \n",
    "    \n",
    "import numpy as np\n",
    "import pandas as pd\n",
    "pd.set_option(\"display.max_colwidth\", 200)\n",
    "\n",
    "import matplotlib as mpl\n",
    "import matplotlib.pyplot as plt\n",
    "\n",
    "from pprint import pprint as pp\n",
    "\n",
    "from IPython.core.interactiveshell import InteractiveShell\n",
    "InteractiveShell.ast_node_interactivity = \"all\"\n",
    "from IPython.display import HTML, Markdown, IFrame, Image\n",
    "\n",
    "#display(HTML(\"<style>.container { width:100% !important; }</style>\"))\n",
    "\n",
    "def new_section(title):\n",
    "    style = \"text-align:center;background:#c2d3ef;padding:20px;color:#ffffff;font-size:3em;width:98%\"\n",
    "    return HTML('<div style=\"{}\">{}</div>'.format(style, title))\n",
    "\n",
    "def filter_dir(obj, start_with_str='_', exclude=True):\n",
    "    return [d for d in dir(obj) if not d.startswith(start_with_str) == exclude]\n",
    "\n",
    "import inspect\n",
    "\n",
    "def get_mdl_pkgs(alib):\n",
    "    \"Inspect module hierarchy on two levels ony.\"\n",
    "    pkgs = {}\n",
    "    for name, mdl in inspect.getmembers(alib, inspect.ismodule):\n",
    "        print('\\n{:>13} : {}'.format(mdl.__name__, filter_dir(mdl)))\n",
    "        for mdl_name, mdl_sub in inspect.getmembers(mdl, inspect.ismodule):\n",
    "            if mdl_sub.__doc__:\n",
    "                print('\\n{:>20} : {}'.format(mdl_name, mdl_sub.__doc__.strip()))\n",
    "\n",
    "%load_ext autoreload\n",
    "%autoreload 2 "
   ]
  },
  {
   "cell_type": "markdown",
   "metadata": {},
   "source": [
    "### Note:  \n",
    "Since I import z3 the pythonic way, `import z3` instead of `from z3 import *` as seen in numerous tutorials,  \n",
    "some variables such as those returned by the `Solver.check()` function, i.e. `sat, unsat, unkown` are not defined.  \n",
    "The following lines use the [`CheckSatResult()` docs](https://z3prover.github.io/api/html/classz3py_1_1_check_sat_result.html) to define them:"
   ]
  },
  {
   "cell_type": "code",
   "execution_count": 2,
   "metadata": {},
   "outputs": [],
   "source": [
    "import z3\n",
    "\n",
    "sat = z3.z3.CheckSatResult(z3.Z3_L_TRUE)\n",
    "unsat = z3.z3.CheckSatResult(z3.Z3_L_FALSE)"
   ]
  },
  {
   "cell_type": "markdown",
   "metadata": {},
   "source": [
    "---\n",
    "# Sudoku\n",
    "\n",
    "The following example encodes the sudoku problem in Z3.  \n",
    "Different sudoku instances can be solved by modifying the matrix instance.  \n",
    "This example makes heavy use of list comprehensions available in the Python programming language.\n",
    "```\n",
    "# 9x9 matrix of integer variables\n",
    "X = [ [ Int(\"x_%s_%s\" % (i+1, j+1)) for j in range(9) ]\n",
    "      for i in range(9) ]\n",
    "\n",
    "# each cell contains a value in {1, ..., 9}\n",
    "cells_c  = [ And(1 <= X[i][j], X[i][j] <= 9)\n",
    "             for i in range(9) for j in range(9) ]\n",
    "\n",
    "# each row contains a digit at most once\n",
    "rows_c   = [ Distinct(X[i]) for i in range(9) ]\n",
    "\n",
    "# each column contains a digit at most once\n",
    "cols_c   = [ Distinct([ X[i][j] for i in range(9) ])\n",
    "             for j in range(9) ]\n",
    "\n",
    "# each 3x3 square contains a digit at most once\n",
    "sq_c     = [ Distinct([ X[3*i0 + i][3*j0 + j]\n",
    "                        for i in range(3) for j in range(3) ])\n",
    "             for i0 in range(3) for j0 in range(3) ]\n",
    "\n",
    "sudoku_c = cells_c + rows_c + cols_c + sq_c\n",
    "\n",
    "# sudoku instance, we use '0' for empty cells\n",
    "instance = ((0,0,0,0,9,4,0,3,0),\n",
    "            (0,0,0,5,1,0,0,0,7),\n",
    "            (0,8,9,0,0,0,0,4,0),\n",
    "            (0,0,0,0,0,0,2,0,8),\n",
    "            (0,6,0,2,0,1,0,5,0),\n",
    "            (1,0,2,0,0,0,0,0,0),\n",
    "            (0,7,0,0,0,0,5,2,0),\n",
    "            (9,0,0,0,6,5,0,0,0),\n",
    "            (0,4,0,9,7,0,0,0,0))\n",
    "\n",
    "instance_c = [ If(instance[i][j] == 0,\n",
    "                  True,\n",
    "                  X[i][j] == instance[i][j])\n",
    "               for i in range(9) for j in range(9) ]\n",
    "\n",
    "s = Solver()\n",
    "s.add(sudoku_c + instance_c)\n",
    "if s.check() == sat:\n",
    "    m = s.model()\n",
    "    r = [ [ m.evaluate(X[i][j]) for j in range(9) ]\n",
    "          for i in range(9) ]\n",
    "    print_matrix(r)\n",
    "else:\n",
    "    print \"failed to solve\"\n",
    "```"
   ]
  },
  {
   "cell_type": "raw",
   "metadata": {},
   "source": [
    "# temp: define 3x3 squares.\n",
    "# https://www.coin-or.org/PuLP/CaseStudies/a_sudoku_problem.html, Example:\n",
    "# The boxes list is created, with the row and column index of each square in each box\n",
    "Boxes =[]\n",
    "for i in range(3):\n",
    "    for j in range(3):\n",
    "        Boxes += [[(Rows[3*i+k],Cols[3*j+l]) for k in range(3) for l in range(3)]]"
   ]
  },
  {
   "cell_type": "code",
   "execution_count": 7,
   "metadata": {},
   "outputs": [],
   "source": [
    "# Number of initial digits to show per level:\n",
    "#  1:easy, 2:medium, 3:difficult:\n",
    "LEVELS = {1:4, 2:3, 3:2}\n",
    "\n",
    "\n",
    "def check_sudoku(grid):\n",
    "    \"\"\" Return True if grid is a valid Sudoku square, otherwise False. \"\"\"\n",
    "    for i in range(9):\n",
    "        # j, k index top left hand corner of each 3x3 tile\n",
    "        j, k = (i // 3) * 3, (i % 3) * 3\n",
    "        if (len(set(grid[i,:])) != 9 or \n",
    "            len(set(grid[:,i])) != 9 or \n",
    "            len(set(grid[j:j+3, k:k+3].ravel())) != 9):\n",
    "            return False\n",
    "    return True\n",
    "\n",
    "\n",
    "def init_sudoku(level=1):\n",
    "\n",
    "    gl = LEVELS[level]\n",
    "    \n",
    "    board = []\n",
    "    digits = np.arange(1,10, dtype='int8')\n",
    "    board.append(digits)\n",
    "\n",
    "    # step 1: create a systemtically filled board\n",
    "    # according to a cyclic shifting scheme:\n",
    "    shift = 3\n",
    "    s0 = 0\n",
    "    for i in range(1, 9):\n",
    "        # shift initial row by 3  for 3 rows;\n",
    "        # reset initial row to 1st row shifted by s0;\n",
    "        # repeat until 3 3x3 squares are formed.\n",
    "        if (i % 3 == 0):\n",
    "            s0 += 1\n",
    "            a = np.roll(board[0], -s0)\n",
    "        else:\n",
    "            a = np.roll(board[i-1], -shift)\n",
    "        board.append(a)\n",
    "\n",
    "    board = np.array(board)\n",
    "\n",
    "    # step 2: shuffle the rows and column within each 3x3 square\n",
    "    for i in range(3):\n",
    "        r1, c1 = (i % 3) * 3, (i // 3) * 3\n",
    "        board[r1:r1+3, c1:c1+3] = np.random.permutation(board[r1:r1+3, c1:c1+3])\n",
    "    for i in range(3, 6):\n",
    "        r1, c1 = (i % 3) * 3, (i // 3) * 3\n",
    "        board[r1:r1+3, c1:c1+3] = np.random.permutation(board[r1:r1+3, c1:c1+3])\n",
    "    for i in range(6,9):\n",
    "        r1, c1 = (i % 3) * 3, (i // 3) * 3\n",
    "        board[r1:r1+3, c1:c1+3] = np.random.permutation(board[r1:r1+3, c1:c1+3])\n",
    "\n",
    "    # step3: fill random cells with zeros according to level\n",
    "    tot = 81\n",
    "    keep = gl*9\n",
    "    hide = tot - keep\n",
    "    # set #hide cell values to 0:\n",
    "    np.put(board, np.random.choice(range(tot), hide, replace=False),0)\n",
    "    \n",
    "    return board.tolist()\n",
    "\n",
    "\n",
    "def list_shape(lst, shape=()):\n",
    "    if not isinstance(lst, list):\n",
    "        print('Not a list')\n",
    "        return shape\n",
    "\n",
    "    return np.array(lst).shape\n",
    "\n",
    "\n",
    "def results_to_num(res_square, f=int):\n",
    "    \"\"\"\n",
    "    convert res_square values to int(long)\n",
    "    \"\"\"\n",
    "    r, c = list_shape(res_square)\n",
    "    out = np.zeros((r, c)).astype(f)\n",
    "    for i in range(r):\n",
    "        for j in range(c):\n",
    "            out[i,j] = res_square[i][j].as_long()\n",
    "\n",
    "    return out\n",
    "\n",
    "\n",
    "\n",
    "def plot_sudoku(game, figsize=(6, 6)):\n",
    "    \"\"\"\n",
    "    Return a sudoku board with values in input array.\n",
    "    :param: game: a 9x9 array\n",
    "    \"\"\"\n",
    "    if isinstance(game, list):\n",
    "        game = np.array(game)\n",
    "        \n",
    "    # check 9x9:\n",
    "    if game.size != 81:\n",
    "        return 'Wrong sudoku dims! (9x9 expected)'\n",
    "    \n",
    "    offset = 0.05\n",
    "    lims = [-offset, 9 + offset]\n",
    "    n = 10\n",
    "    W, L = figsize\n",
    "    \n",
    "    w = W//9\n",
    "    \n",
    "    plt.figure(figsize=figsize)\n",
    "    \n",
    "    # all cells:\n",
    "    for i in range(n):\n",
    "        plt.plot(lims, [i,i], color='grey', linewidth=1)\n",
    "        plt.plot([i,i], lims, color='grey', linewidth=1)\n",
    "        \n",
    "    # for 3x3 squares:    \n",
    "    for j in range(0,n,3):\n",
    "        plt.plot(lims, [j,j], color='black', linewidth=2)\n",
    "        plt.plot([j,j], lims, color='black', linewidth=2)    \n",
    "\n",
    "    plt.axis('off')\n",
    "    plt.axis('image')\n",
    "    #\n",
    "\n",
    "    [plt.text(x+0.3, y+0.3,\n",
    "              str(game[8-y][x]),\n",
    "              fontsize=20) for x in range(9) \n",
    "                           for y in range(9) if game[8-y][x]>0]\n",
    "    plt.show()\n",
    "    #plt.savefig()\n",
    "    return"
   ]
  },
  {
   "cell_type": "code",
   "execution_count": 14,
   "metadata": {},
   "outputs": [
    {
     "data": {
      "text/plain": [
       "array([[8, 7, 0, 8, 2, 0, 0, 0, 0],\n",
       "       [0, 0, 3, 0, 6, 0, 6, 0, 1],\n",
       "       [0, 0, 8, 0, 9, 0, 8, 0, 4],\n",
       "       [5, 4, 0, 0, 0, 6, 4, 0, 0],\n",
       "       [3, 2, 0, 0, 0, 0, 0, 3, 9],\n",
       "       [4, 0, 7, 0, 0, 5, 0, 4, 0],\n",
       "       [0, 9, 0, 0, 0, 0, 6, 6, 3],\n",
       "       [0, 0, 1, 0, 1, 2, 6, 0, 0],\n",
       "       [0, 1, 7, 0, 0, 5, 0, 2, 0]], dtype=int8)"
      ]
     },
     "execution_count": 14,
     "metadata": {},
     "output_type": "execute_result"
    }
   ],
   "source": [
    "import random\n",
    "\n",
    "def init_sudoku0(level=1):\n",
    "    game0 = np.zeros((9,9), dtype='int8')\n",
    "\n",
    "    gl = LEVELS[level]\n",
    "    digits = np.arange(1, 10)\n",
    "    \n",
    "    for i in range(9):    \n",
    "        # create a non-repeating selection of digits of size gl:\n",
    "        idx_set = random.sample(range(1, 10), gl)\n",
    "        #print(i, idx_set)\n",
    "        \n",
    "        c, k = (i // 3) * 3, (i % 3) * 3\n",
    "        #sq_3 = game0[c:c+3, c:c+3].ravel()\n",
    "        #print('sq_3',sq_3)\n",
    "            \n",
    "        for j in idx_set:\n",
    "            x = digits[np.random.choice(digits,1)-1][0]\n",
    "            #print('x',x)\n",
    "            game0[i, j-1] = x\n",
    "            \n",
    "            # define 3x3 square:\n",
    "            sq_3 = game0[c:c+3, c:c+3]#.ravel()\n",
    "            #print('sq_3',sq_3)\n",
    "            \n",
    "            s1 = set(game0[i, :])\n",
    "            s2 = set(game0[:, j-1])\n",
    "            s3 = set(sq_3[sq_3>0].ravel())\n",
    "            \n",
    "            sd = s1.symmetric_difference(s2).symmetric_difference(s3)\n",
    "            #print('sd',sd)\n",
    "            \n",
    "            if not len(sd):\n",
    "                if not len(s3):\n",
    "                    game0[i, j-1] = x\n",
    "                elif not x in s3:\n",
    "                    game0[i, j-1] = x\n",
    "            else:\n",
    "                if x not in sd:\n",
    "                    game0[i, j-1] = x\n",
    "                \n",
    "    return game0\n",
    "\n",
    "game0 = init_sudoku0()\n",
    "game0"
   ]
  },
  {
   "cell_type": "raw",
   "metadata": {},
   "source": [
    "game1 = init_sudoku0(2)\n",
    "game1"
   ]
  },
  {
   "cell_type": "code",
   "execution_count": 10,
   "metadata": {},
   "outputs": [],
   "source": [
    "# Definition of the sudoku \"z3 board\" (similar to a namespace for z3 variables) \n",
    "# as a 9x9 matrix of integer variables, named X_i_j:\n",
    "\n",
    "X = [ [ z3.Int(\"x_%s_%s\" % (i+1, j+1)) for j in range(9) ] for i in range(9) ]\n",
    "\n",
    "# The rules of the Sudoku game become the constraints of a problem that Z3 will solve (if it can):\n",
    "\n",
    "# each cell contains a decimal digit (a value in {1, ..., 9}):\n",
    "cells_c = [ z3.And(1<=X[i][j], X[i][j]<=9) for i in range(9) \n",
    "                                           for j in range(9) ]\n",
    "\n",
    "# each row contains unique digits\n",
    "rows_c = [ z3.Distinct(X[i]) for i in range(9) ]\n",
    "\n",
    "# each column contains unique digits\n",
    "cols_c = [ z3.Distinct([ X[i][j] for i in range(9) ])\n",
    "                                 for j in range(9) ]\n",
    "\n",
    "# each 3x3 square contains unique digits\n",
    "sq_c = [ z3.Distinct([ X[3*i0 + i][3*j0 + j]\n",
    "                        for i in range(3) for j in range(3) ])\n",
    "                        for i0 in range(3) for j0 in range(3) ]\n",
    "\n",
    "# combine all constraints:\n",
    "sudoku_c = cells_c + rows_c + cols_c + sq_c"
   ]
  },
  {
   "cell_type": "code",
   "execution_count": 12,
   "metadata": {},
   "outputs": [
    {
     "name": "stdout",
     "output_type": "stream",
     "text": [
      "unsat\n",
      "failed to solve\n"
     ]
    }
   ],
   "source": [
    "# Create a Sudoku board (initial state/instance).\n",
    "\n",
    "# Cells with '0' values do not get a digit.\n",
    "my_level = 1\n",
    "instance = init_sudoku(my_level)\n",
    "\n",
    "\n",
    "# Constraints on the initial board\n",
    "instance_c = [ z3.If( instance[i][j]==0, True, X[i][j]==instance[i][j] )\n",
    "                  for i in range(9) for j in range(9) ]\n",
    "\n",
    "# Initialize a Z3 solver\n",
    "s = z3.Solver()\n",
    "\n",
    "# Add the rules and initial board as solver constraints:\n",
    "s.add(sudoku_c + instance_c)\n",
    "\n",
    "# Proceed with the solution search if logic ok:\n",
    "check_result = s.check()\n",
    "print(check_result)\n",
    "\n",
    "if check_result == sat:\n",
    "    plot_sudoku(instance)\n",
    "    \n",
    "    m = s.model()\n",
    "    r = [ [ m.evaluate(X[i][j]) for j in range(9) ]\n",
    "                                for i in range(9) ]\n",
    "    #plot_sudoku(results_to_num(r))\n",
    "    pp(r)\n",
    "else:\n",
    "    print(\"failed to solve\")"
   ]
  },
  {
   "cell_type": "markdown",
   "metadata": {},
   "source": [
    "---"
   ]
  },
  {
   "cell_type": "markdown",
   "metadata": {},
   "source": [
    "---\n",
    "### TODO: plot results, interactive game"
   ]
  },
  {
   "cell_type": "raw",
   "metadata": {},
   "source": [
    "from matplotlib.collections import PatchCollection\n",
    "from matplotlib.patches import Rectangle\n",
    "\n",
    "def plot_sudoku0(game, figsize=(6, 6)):\n",
    "    \"\"\"\n",
    "        # Modified from http://iacs-courses.seas.harvard.edu/courses/am207/blog/lab-7.html\n",
    "    Return a sudoku board with values in input array.\n",
    "    :param: game: a 9x9 array\n",
    "    \"\"\"\n",
    "    if isinstance(game, list):\n",
    "        game = np.array(game)\n",
    "\n",
    "    # check 9x9:\n",
    "    if game.size != 81:\n",
    "        return 'Wrong sudoku dims! (9x9 expected)'\n",
    "    \n",
    "    offset = 0.05\n",
    "    lims = [-offset, r + offset]\n",
    "    n = r + 1\n",
    "    plt.figure(figsize=figsize)\n",
    "    \n",
    "    # all cells:\n",
    "    for i in range(n):\n",
    "        plt.plot(lims, [i,i], color='grey', linewidth=1)\n",
    "        plt.plot([i,i], lims, color='grey', linewidth=1)\n",
    "        \n",
    "    # for 3x3 squares:    \n",
    "    for j in range(0,n,3):\n",
    "        plt.plot(lims, [j,j], color='black', linewidth=2)\n",
    "        plt.plot([j,j], lims, color='black', linewidth=2)    \n",
    "\n",
    "    plt.axis('off')\n",
    "    plt.axis('image')\n",
    "\n",
    "    [plt.text(x+0.3, y+0.3,\n",
    "              str(game[8-y][x]),\n",
    "              fontsize=20) for x in range(r) \n",
    "                           for y in range(c) if game[8-y][x]>0]\n",
    "    plt.show()\n",
    "    #plt.savefig()\n",
    "    return"
   ]
  },
  {
   "cell_type": "raw",
   "metadata": {},
   "source": [
    "fig, (ax1, ax2) = plt.subplots(ncols=2, figsize=(12, 6))"
   ]
  },
  {
   "cell_type": "raw",
   "metadata": {},
   "source": [
    "# example for drawing rectangle - > interactive game\n",
    "\n",
    "\n",
    "# Number of data points\n",
    "n = 5\n",
    "\n",
    "# Dummy data\n",
    "np.random.seed(19680801)\n",
    "x = np.arange(0, n, 1)\n",
    "y = np.random.rand(n) * 5.\n",
    "\n",
    "# Dummy errors (above and below)\n",
    "xerr = np.random.rand(2, n) + 0.1\n",
    "yerr = np.random.rand(2, n) + 0.2\n",
    "\n",
    "\n",
    "def make_error_boxes(ax, xdata, ydata, xerror, yerror, facecolor='r',\n",
    "                     edgecolor='None', alpha=0.5):\n",
    "\n",
    "    # Create list for all the error patches\n",
    "    errorboxes = []\n",
    "\n",
    "    # Loop over data points; create box from errors at each point\n",
    "    for x, y, xe, ye in zip(xdata, ydata, xerror.T, yerror.T):\n",
    "        rect = Rectangle((x - xe[0], y - ye[0]), xe.sum(), ye.sum())\n",
    "        errorboxes.append(rect)\n",
    "\n",
    "    # Create patch collection with specified colour/alpha\n",
    "    pc = PatchCollection(errorboxes, facecolor=facecolor, alpha=alpha,\n",
    "                         edgecolor=edgecolor)\n",
    "\n",
    "    # Add collection to axes\n",
    "    ax.add_collection(pc)\n",
    "\n",
    "    # Plot errorbars\n",
    "    ax.errorbar(xdata, ydata, xerr=xerror, yerr=yerror,\n",
    "                          fmt='None', ecolor='k')\n",
    "\n",
    "    return ax #artists\n",
    "\n",
    "\n",
    "# Create figure and axes\n",
    "fig, ax = plt.subplots(1)\n",
    "\n",
    "# Call function to create error boxes\n",
    "#_ = \n",
    "make_error_boxes(ax, x, y, xerr, yerr);\n",
    "\n",
    "#plt.show()"
   ]
  },
  {
   "cell_type": "markdown",
   "metadata": {},
   "source": [
    "---\n",
    "Code for reference:"
   ]
  },
  {
   "cell_type": "raw",
   "metadata": {},
   "source": [
    "# solvable instance\n",
    "instance = [[0,0,0,0,9,4,0,3,0],\n",
    "            [0,0,0,5,1,0,0,0,7],\n",
    "            [0,8,9,0,0,0,0,4,0],\n",
    "            [0,0,0,0,0,0,2,0,8],\n",
    "            [0,6,0,2,0,1,0,5,0],\n",
    "            [1,0,2,0,0,0,0,0,0],\n",
    "            [0,7,0,0,0,0,5,2,0],\n",
    "            [9,0,0,0,6,5,0,0,0],\n",
    "            [0,4,0,9,7,0,0,0,0]]"
   ]
  },
  {
   "cell_type": "code",
   "execution_count": 5,
   "metadata": {},
   "outputs": [
    {
     "data": {
      "text/plain": [
       "array([[0, 0, 0, 9, 4, 0, 7, 0, 0],\n",
       "       [0, 0, 3, 0, 0, 0, 0, 6, 9],\n",
       "       [0, 3, 4, 1, 0, 8, 0, 0, 0],\n",
       "       [0, 0, 4, 0, 1, 0, 4, 0, 0],\n",
       "       [7, 0, 0, 0, 8, 4, 0, 0, 5],\n",
       "       [1, 0, 0, 0, 6, 2, 0, 0, 0],\n",
       "       [0, 9, 1, 2, 0, 0, 0, 0, 0],\n",
       "       [0, 5, 0, 0, 0, 7, 6, 0, 8],\n",
       "       [0, 0, 8, 0, 0, 9, 0, 2, 0]], dtype=int8)"
      ]
     },
     "execution_count": 5,
     "metadata": {},
     "output_type": "execute_result"
    }
   ],
   "source": [
    "# my first attempt \n",
    "import random\n",
    "\n",
    "def select_uniq_digits(game_level):\n",
    "    choices = [i for i in range(1,10)]\n",
    "    s_choices = set(choices)\n",
    "    \n",
    "    a = np.random.randint(0,9, game_level)\n",
    "    #print('choices:', choices, '\\na      :',a)\n",
    "\n",
    "    au, ai, ac = np.unique(a, return_index=True, return_counts=True)\n",
    "    ix = np.where(ac>1)\n",
    "\n",
    "    if len(ix):\n",
    "        for i, x in enumerate(ix):\n",
    "            if len(x):\n",
    "                xx = ai[x][0]\n",
    "                sd = s_choices.symmetric_difference(set(a))\n",
    "                new = np.choose([0], list(sd))\n",
    "                a[xx] = new\n",
    "\n",
    "    return np.choose(a, choices).flatten()\n",
    "    \n",
    "    \n",
    "# number of initial digits to show per level:\n",
    "#  1:easy, 2:medium, 3:difficult:\n",
    "LEVELS = {1:4, 2:3, 3:2}\n",
    "    \n",
    "def init_sudoku0(level=1):\n",
    "    game0 = np.zeros((9,9), dtype='int8')\n",
    "\n",
    "    gl = LEVELS[level]\n",
    "    digits = np.arange(1, 10)\n",
    "    \n",
    "    for i in range(9):    \n",
    "        # create a non-repeating selection of digits of size gl:\n",
    "        idx_set = random.sample(range(1, 10), gl)\n",
    "\n",
    "        c, k = (i // 3) * 3, (i % 3) * 3\n",
    "        sq_3 = game0[c:c+3, c:c+3].ravel()\n",
    "        #if (c+k) % 3 ==0:\n",
    "        #    print('sq_3', sq_3)\n",
    "            \n",
    "        for j in idx_set:\n",
    "            \n",
    "            x = digits[np.random.choice(digits,1)-1][0]\n",
    "            #game0[i, j-1] = x\n",
    "            \n",
    "            s1 = set(game0[i, :])\n",
    "            s2 = set(game0[:, j-1])\n",
    "            s3 = set(sq_3[sq_3>0])\n",
    "            \n",
    "            sd = s1.symmetric_difference(s2)\n",
    "            \n",
    "            if not len(sd):\n",
    "                if not len(s3):\n",
    "                    game0[i, j-1] = x\n",
    "                elif not x in s3:\n",
    "                    game0[i, j-1] = x\n",
    "            else:\n",
    "                if x not in sd:\n",
    "                    game0[i, j-1] = x\n",
    "                \n",
    "    return game0\n",
    "\n",
    "game0 = init_sudoku0(level=1)\n",
    "game0"
   ]
  },
  {
   "cell_type": "markdown",
   "metadata": {},
   "source": [
    "---\n",
    "# plt.matshow"
   ]
  },
  {
   "cell_type": "code",
   "execution_count": 22,
   "metadata": {},
   "outputs": [],
   "source": [
    "from matplotlib import cm\n",
    "from matplotlib.colors import ListedColormap, LinearSegmentedColormap"
   ]
  },
  {
   "cell_type": "code",
   "execution_count": 19,
   "metadata": {},
   "outputs": [
    {
     "name": "stdout",
     "output_type": "stream",
     "text": [
      "(0.267004, 0.004874, 0.329415, 1.0)\n",
      "(0.127568, 0.566949, 0.550556, 1.0)\n",
      "(0.993248, 0.906157, 0.143936, 1.0)\n"
     ]
    }
   ],
   "source": [
    "n = 81//3\n",
    "viridis = cm.get_cmap('viridis', n)\n",
    "\n",
    "# The object viridis is a callable, that when passed a float between 0 and 1 returns an RGBA value from the colormap:\n",
    "print(viridis(0.))\n",
    "print(viridis(0.5))\n",
    "print(viridis(1.))\n",
    "\n",
    "# The list of colors that comprise the colormap can be directly accessed using the colors property, or it can be accessed indirectly by calling viridis with an array of values matching the length of the colormap. Note that the returned list is in the form of an RGBA Nx4 array, where N is the length of the colormap.\n",
    "#print('viridis.colors\\n', viridis.colors)\n",
    "#print(f'viridis(range({n})):\\n{viridis(range(n))}')\n",
    "#print('viridis(np.linspace(0, 1, 9))\\n', viridis(np.linspace(0, 1, n)))"
   ]
  },
  {
   "cell_type": "code",
   "execution_count": 17,
   "metadata": {},
   "outputs": [
    {
     "data": {
      "image/png": "[encoded data removed]",
      "text/plain": [
       "<Figure size 288x288 with 1 Axes>"
      ]
     },
     "metadata": {
      "needs_background": "light"
     },
     "output_type": "display_data"
    }
   ],
   "source": [
    "# Display matrix\n",
    "plt.matshow(game0, cmap=viridis)\n",
    "plt.show();"
   ]
  },
  {
   "cell_type": "code",
   "execution_count": 20,
   "metadata": {},
   "outputs": [],
   "source": [
    "def plot_examples(cms):\n",
    "    \"\"\"\n",
    "    helper function to plot two colormaps\n",
    "    \"\"\"\n",
    "    np.random.seed(19680801)\n",
    "    data = np.random.randn(30, 30)\n",
    "\n",
    "    fig, axs = plt.subplots(1, 2, figsize=(6, 3), constrained_layout=True)\n",
    "    for [ax, cmap] in zip(axs, cms):\n",
    "        psm = ax.pcolormesh(data, cmap=cmap, rasterized=True, vmin=-4, vmax=4)\n",
    "        fig.colorbar(psm, ax=ax)\n",
    "    plt.show()"
   ]
  },
  {
   "cell_type": "code",
   "execution_count": 24,
   "metadata": {},
   "outputs": [
    {
     "data": {
      "image/png": "[encoded data removed]",
      "text/plain": [
       "<Figure size 432x216 with 4 Axes>"
      ]
     },
     "metadata": {
      "needs_background": "light"
     },
     "output_type": "display_data"
    }
   ],
   "source": [
    "top = cm.get_cmap('Oranges_r', 5)\n",
    "bottom = cm.get_cmap('Blues', 5)\n",
    "\n",
    "newcolors = np.vstack((top(np.linspace(0, 1, 5)),\n",
    "                       bottom(np.linspace(0, 1, 5))))\n",
    "newcmp = ListedColormap(newcolors, name='OrangeBlue')\n",
    "plot_examples([viridis, newcmp])"
   ]
  },
  {
   "cell_type": "code",
   "execution_count": 3,
   "metadata": {},
   "outputs": [
    {
     "data": {
      "image/png": "[encoded data removed]",
      "text/plain": [
       "<Figure size 288x288 with 1 Axes>"
      ]
     },
     "metadata": {
      "needs_background": "light"
     },
     "output_type": "display_data"
    }
   ],
   "source": [
    "def samplemat(dims):\n",
    "    \"\"\"Make a matrix with all zeros and increasing elements on the diagonal\"\"\"\n",
    "    aa = np.zeros(dims)\n",
    "    for i in range(min(dims)):\n",
    "        aa[i, i] = i\n",
    "    return aa\n",
    "\n",
    "\n",
    "# Display matrix\n",
    "plt.matshow(samplemat((9,9)))\n",
    "plt.show();"
   ]
  },
  {
   "cell_type": "markdown",
   "metadata": {},
   "source": [
    "***"
   ]
  },
  {
   "cell_type": "raw",
   "metadata": {},
   "source": [
    "# explanation of Z3Exception if instance is np.array:\n",
    "# 1.\n",
    "instance0 = [[0,0,0,0,9,4,0,3,0],\n",
    "            [0,0,0,5,1,0,0,0,7],\n",
    "            [0,8,9,0,0,0,0,4,0],\n",
    "            [0,0,0,0,0,0,2,0,8],\n",
    "            [0,6,0,2,0,1,0,5,0],\n",
    "            [1,0,2,0,0,0,0,0,0],\n",
    "            [0,7,0,0,0,0,5,2,0],\n",
    "            [9,0,0,0,6,5,0,0,0],\n",
    "            [0,4,0,9,7,0,0,0,0]]\n",
    "instance1 = np.array(instance0)\n",
    "\n",
    "# Assign to matrix element:\n",
    "print('Assignment to matrix from instance as list:')\n",
    "X[2][1] == instance0[2][1]\n",
    "print('  X[2][1] = ', X[2][1])\n",
    "print('Assignment to matrix from instance as array:')\n",
    "try:\n",
    "    X[2][1] == instance1[2][1]\n",
    "except z3.Z3Exception:\n",
    "    print('---> Python value cannot be used as a Z3 integer')\n",
    "    print('\"Python value\" is ', instance1[2][1], type(instance1[2][1]))"
   ]
  },
  {
   "cell_type": "code",
   "execution_count": null,
   "metadata": {},
   "outputs": [],
   "source": []
  }
 ],
 "metadata": {
  "kernelspec": {
   "display_name": "Python 3",
   "language": "python",
   "name": "python3"
  },
  "language_info": {
   "codemirror_mode": {
    "name": "ipython",
    "version": 3
   },
   "file_extension": ".py",
   "mimetype": "text/x-python",
   "name": "python",
   "nbconvert_exporter": "python",
   "pygments_lexer": "ipython3",
   "version": "3.6.7"
  }
 },
 "nbformat": 4,
 "nbformat_minor": 4
}
