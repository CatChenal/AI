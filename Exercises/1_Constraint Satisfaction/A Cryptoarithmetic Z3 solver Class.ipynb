{
 "cells": [
  {
   "cell_type": "markdown",
   "metadata": {},
   "source": [
    "_First code cell from custom template `dsml.ipynb` in [user_path]\\Anaconda3\\envs\\dsml\\Lib\\site-packages\\jupyterlab_templates\\templates\\jupyterlab_templates_. <br>\n",
    "_See Tim Paine's [`jupyter_lab templates` extention](https://github.com/timkpaine/jupyterlab_templates)._"
   ]
  },
  {
   "cell_type": "code",
   "execution_count": 4,
   "metadata": {},
   "outputs": [
    {
     "name": "stdout",
     "output_type": "stream",
     "text": [
      "Python ver: 3.6.7 (default, Feb 28 2019, 07:28:18) [MSC v.1900 64 bit (AMD64)]\n",
      "Python env: dsml\n",
      "Currrent dir: C:\\Users\\catch\\Documents\\GitHub\\AI\\Exercises\\1_Constraint Satisfaction\n",
      "\n",
      "Path added to sys.path: C:\\Users\\catch\\Documents\\GitHub\\AI\\Exercises\\1_Constraint Satisfaction\n"
     ]
    }
   ],
   "source": [
    "import sys\n",
    "from pathlib import Path, PurePath as PPath\n",
    "\n",
    "print('Python ver: {}\\nPython env: {}'.format(sys.version, Path(sys.prefix).name))\n",
    "print('Currrent dir: {}\\n'.format(Path.cwd()))\n",
    "\n",
    "def add_to_sys_path(this_path, up=False):\n",
    "    \"\"\"\n",
    "    Prepend this_path to sys.path.\n",
    "    If up=True, path refers to parent folder (1 level up).\n",
    "    \"\"\"\n",
    "    if up:\n",
    "        # NB: Path does not have a str method.\n",
    "        newp = str(PPath(this_path).parent)\n",
    "    else:\n",
    "        newp = str(PPath(this_path)) \n",
    "    \n",
    "    if newp not in sys.path:\n",
    "        sys.path.insert(1, newp)\n",
    "        print('Path added to sys.path: {}'.format(newp))\n",
    "\n",
    "# if notebook inside another folder, eg ./notebooks:\n",
    "nb_folder = 'notebooks'\n",
    "add_to_sys_path(Path.cwd(), Path.cwd().name.startswith(nb_folder))\n",
    "\n",
    "\n",
    "def get_project_dirs(which=['data', 'images'], nb_folder='notebooks'):\n",
    "    dir_lst = []\n",
    "    if Path.cwd().name.startswith(nb_folder):\n",
    "        dir_fn = Path.cwd().parent.joinpath\n",
    "    else:\n",
    "        dir_fn = Path.cwd().joinpath\n",
    "        \n",
    "    for d in which:\n",
    "        DIR = dir_fn(d)\n",
    "        if not DIR.exists():\n",
    "            Path.mkdir(DIR)\n",
    "        dir_lst.append(DIR)\n",
    "    return dir_lst\n",
    "\n",
    "DIR_DATA, DIR_IMG = get_project_dirs()\n",
    "    \n",
    "import numpy as np\n",
    "import scipy as sp\n",
    "from scipy import stats as sps\n",
    "import pandas as pd\n",
    "#pd.set_option(\"display.max_colwidth\", 200)\n",
    "\n",
    "import matplotlib as mpl\n",
    "from matplotlib import pyplot as plt\n",
    "plt.ion()\n",
    "plt.style.use('seaborn-muted')\n",
    "\n",
    "from pprint import pprint as pp\n",
    "\n",
    "# Filtered dir() for method discovery:\n",
    "def filter_module_dir(mdl, filter_str=None, start_with_str='_', exclude=True):\n",
    "    \"\"\"Filter dir(mdl) for method discovery.\n",
    "       Input:\n",
    "       :param mdl (object): module, optionally with submodule path(s), e.g. mdl.submdl1.submdl2.\n",
    "       :param filter_str (str, None): filter all method names containing that string.\n",
    "       :param start_with_str (str, '_'), exclude (bool, True): start_with_str and exclude work together\n",
    "              to perform search on non-dunder methods (default).\n",
    "    \"\"\"\n",
    "    search_dir = [d for d in dir(mdl) if not d.startswith(start_with_str) == exclude]\n",
    "    if filter_str is None:\n",
    "        return search_dir\n",
    "    else:\n",
    "        filter_str = filter_str.lower()\n",
    "        return [d for d in search_dir if d.lower().find(filter_str) != -1]\n",
    "\n",
    "def get_mdl_pkgs(alib):\n",
    "    import inspect\n",
    "    \"Inspect module hierarchy on two levels ony.\"\n",
    "    for name, mdl in inspect.getmembers(alib, inspect.ismodule):\n",
    "        print('\\n{:>13} : {}'.format(mdl.__name__, filter_dir(mdl)))\n",
    "        for mdl_name, mdl_sub in inspect.getmembers(mdl, inspect.ismodule):\n",
    "            if mdl_sub.__doc__:\n",
    "                print('\\n{:>20} : {}'.format(mdl_name, mdl_sub.__doc__.strip()))\n",
    "                \n",
    "\n",
    "from IPython.core.interactiveshell import InteractiveShell\n",
    "InteractiveShell.ast_node_interactivity = \"all\"\n",
    "\n",
    "from IPython.display import HTML, Markdown #, IFrame\n",
    "# for presentations:\n",
    "#display(HTML(\"<style>.container { width:100% !important; }</style>\"))\n",
    "\n",
    "def new_section(title='New section'):\n",
    "    style = \"text-align:center;background:#c2d3ef;padding:16px;color:#ffffff;font-size:2em;width:98%\"\n",
    "    return HTML('<div style=\"{}\">{}</div>'.format(style, title))\n",
    "\n",
    "\n",
    "def add_div(div_class, div_start, div_text, output_string=True):\n",
    "    from IPython import get_ipython\n",
    "    from IPython.display import HTML, Markdown\n",
    "    \"\"\"\n",
    "    Behaviour with default `output_string=True`:\n",
    "    The cell is overwritten with the output string, but the cell mode is still in 'code' not 'markdown':\n",
    "    ```\n",
    "    [x]\n",
    "    add_div('alert-warning', 'Tip: ', 'some tip here', output_string=True)\n",
    "    [x]\n",
    "    <div class=\"alert alert-warning\"><b>Tip: </b>some tip here</div>\n",
    "    ```\n",
    "    The only thing to do is change the cell mode to Markdown.\n",
    "    If `output_string=False`, the HTML output is displayed in an output cell.\n",
    "    \"\"\"\n",
    "    accepted = ['info', 'warning', 'danger']\n",
    "    if div_class not in accepted:\n",
    "        return HTML(f\"\"\"<div class=\"alert\"><b>Wrong class:</b> `div_start` is one of {accepted}.\n",
    "                    </div>\"\"\")\n",
    "    div = f\"\"\"<div class=\"alert alert-{div_class}\"><b>{div_start}</b>{div_text}</div>\"\"\"\n",
    "    if output_string:\n",
    "        return get_ipython().set_next_input(div, 'markdown')\n",
    "    else:\n",
    "        return Markdown(div) #HTML(div)\n",
    "\n",
    "# autoreload extension\n",
    "from IPython import get_ipython\n",
    "ipython = get_ipython()\n",
    "\n",
    "if 'autoreload' not in ipython.extension_manager.loaded:\n",
    "    %load_ext autoreload\n",
    "\n",
    "%autoreload 2"
   ]
  },
  {
   "cell_type": "markdown",
   "metadata": {},
   "source": [
    "<div class=\"alert alert-info\" ><h1>Work In Progress</h1></div>"
   ]
  },
  {
   "cell_type": "markdown",
   "metadata": {},
   "source": [
    "---\n",
    "---\n",
    "# A class for solving crypto arithmetic (CA) puzzles using Z3.\n",
    "\n",
    "This project emanates from the CA exercise in `AIND-Constraint_Satisfaction.ipynb` and the CA challenges:\n",
    ">### Cryptarithmetic Challenges\n",
    ">0. Search online for [more cryptarithmetic puzzles](https://www.reddit.com/r/dailyprogrammer/comments/7p5p2o/20180108_challenge_346_easy_cryptarithmetic_solver/) (or create your own). Come to office hours or join a discussion channel to chat with your peers about the trade-offs between monolithic constraints & splitting up the constraints. (Is one way or another easier to generalize or scale with new problems? Is one of them faster for large or small problems?)\n",
    ">0. Can you extend the solution to handle complex puzzles (e.g., using multiplication WORD1 x WORD2 = OUTPUT)?\n",
    "---\n",
    "\n",
    "# [Reddit] Challenge #346 [Easy] Cryptarithmetic Solver \n",
    "\n",
    "## Challenge Input:    \n",
    "```\n",
    "\"WHAT + WAS + THY == CAUSE\"\n",
    "\n",
    "\"HIS + HORSE + IS == SLAIN\"\n",
    "\n",
    "\"HERE + SHE == COMES\"\n",
    "\n",
    "\"FOR + LACK + OF == TREAD\"\n",
    "\n",
    "\"I + WILL + PAY + THE == THEFT\"\n",
    "```\n",
    "\n",
    "## Bonus:\n",
    "```\n",
    "\"TEN + HERONS + REST + NEAR + NORTH + SEA + SHORE + AS + TAN + TERNS + SOAR + TO + ENTER + THERE + AS + HERONS + NEST + ON + STONES + AT + SHORE + THREE + STARS + ARE + SEEN + TERN + SNORES + ARE + NEAR == SEVVOTH\"\n",
    "\n",
    "\"SO + MANY + MORE + MEN + SEEM + TO + SAY + THAT + THEY + MAY + SOON + TRY + TO + STAY + AT + HOME +  SO + AS + TO + SEE + OR + HEAR + THE + SAME + ONE + MAN + TRY + TO + MEET + THE + TEAM + ON + THE + MOON + AS + HE + HAS + AT + THE + OTHER + TEN == TESTS\"\n",
    "\n",
    "\"THIS + A + FIRE + THEREFORE + FOR + ALL + HISTORIES + I + TELL + A + TALE + THAT + FALSIFIES + ITS + TITLE + TIS + A + LIE + THE + TALE + OF + THE + LAST + FIRE + HORSES + LATE + AFTER + THE + FIRST + FATHERS + FORESEE + THE + HORRORS + THE + LAST + FREE + TROLL + TERRIFIES + THE + HORSES + OF + FIRE + THE + TROLL + RESTS + AT + THE + HOLE + OF + LOSSES + IT + IS + THERE + THAT + SHE + STORES + ROLES + OF + LEATHERS + AFTER + SHE + SATISFIES + HER + HATE + OFF + THOSE + FEARS + A + TASTE + RISES + AS + SHE + HEARS + THE + LEAST + FAR + HORSE + THOSE + FAST + HORSES + THAT + FIRST + HEAR + THE + TROLL + FLEE + OFF + TO + THE + FOREST + THE + HORSES + THAT + ALERTS + RAISE + THE + STARES + OF + THE + OTHERS + AS + THE + TROLL + ASSAILS + AT + THE + TOTAL + SHIFT + HER + TEETH + TEAR + HOOF + OFF + TORSO + AS + THE + LAST + HORSE + FORFEITS + ITS + LIFE + THE + FIRST + FATHERS + HEAR + OF + THE + HORRORS + THEIR + FEARS + THAT + THE + FIRES + FOR + THEIR + FEASTS + ARREST + AS + THE + FIRST + FATHERS + RESETTLE + THE + LAST + OF + THE + FIRE + HORSES + THE + LAST + TROLL + HARASSES + THE + FOREST + HEART + FREE + AT + LAST + OF + THE + LAST + TROLL + ALL + OFFER + THEIR + FIRE + HEAT + TO + THE + ASSISTERS + FAR + OFF + THE + TROLL + FASTS + ITS + LIFE + SHORTER + AS + STARS + RISE + THE + HORSES + REST + SAFE + AFTER + ALL + SHARE + HOT + FISH + AS + THEIR + AFFILIATES + TAILOR + A + ROOFS + FOR + THEIR + SAFE == FORTRESSES\"\n",
    "```"
   ]
  },
  {
   "cell_type": "markdown",
   "metadata": {},
   "source": [
    "---\n",
    "### Notes from a pythonista:  \n",
    "<strong> I import z3 the pythonic way:</strong> \n",
    "```import z3``` \n",
    "instead of  \n",
    "```from z3 import *``` as seen in numerous tutorials.  \n",
    "\n",
    "<strong> Why?</strong>\n",
    "<strong>\n",
    "1.  It is not recommended as this can corrupt the namespace (some functions from different libraries could have the same name).\n",
    "2.  I usually inspect a module **in order to learn** about its various functions and methods, so I used the root object for that (anlong with my function `filter_module_dir`).\n",
    "\n",
    "The slight drawback &mdash; apart from from having to type a little more &mdash; is that some variables such as those returned by the `Solver.check()` function (i.e. `sat, unsat, unkown`), are not defined.  \n",
    "The following lines use the [`CheckSatResult()` docs](https://z3prover.github.io/api/html/classz3py_1_1_check_sat_result.html) to define them:\n",
    "</strong>"
   ]
  },
  {
   "cell_type": "code",
   "execution_count": 2,
   "metadata": {},
   "outputs": [],
   "source": [
    "from collections import defaultdict\n",
    "from itertools import product\n",
    "\n",
    "import z3\n",
    "\n",
    "sat = z3.z3.CheckSatResult(z3.Z3_L_TRUE)\n",
    "unsat = z3.z3.CheckSatResult(z3.Z3_L_FALSE)\n",
    "# else: unkown"
   ]
  },
  {
   "cell_type": "markdown",
   "metadata": {},
   "source": [
    "---\n",
    "## What's in Z3?\n",
    "\n",
    "The cell below shows how I list a module's methods to learn about them:"
   ]
  },
  {
   "cell_type": "code",
   "execution_count": 5,
   "metadata": {},
   "outputs": [
    {
     "data": {
      "text/plain": [
       "['addressof', 'alignment', 'append_log', 'args2params']"
      ]
     },
     "execution_count": 5,
     "metadata": {},
     "output_type": "execute_result"
    },
    {
     "data": {
      "text/plain": [
       "['ARRAY',\n",
       " 'AlgebraicNumRef',\n",
       " 'And',\n",
       " 'AndThen',\n",
       " 'ApplyResult',\n",
       " 'ApplyResultObj',\n",
       " 'ArgumentError',\n",
       " 'ArithRef',\n",
       " 'ArithSortRef',\n",
       " 'Array',\n",
       " 'ArrayRef',\n",
       " 'ArraySort',\n",
       " 'ArraySortRef',\n",
       " 'Ast',\n",
       " 'AstMap',\n",
       " 'AstMapObj',\n",
       " 'AstRef',\n",
       " 'AstVector',\n",
       " 'AstVectorObj',\n",
       " 'AtLeast',\n",
       " 'AtMost']"
      ]
     },
     "execution_count": 5,
     "metadata": {},
     "output_type": "execute_result"
    },
    {
     "data": {
      "text/plain": [
       "['Z3Exception',\n",
       " 'Z3PPObject',\n",
       " 'Z3_APP_AST',\n",
       " 'Z3_ARRAY_SORT',\n",
       " 'Z3_BOOL_SORT',\n",
       " 'Z3_BV_SORT',\n",
       " 'Z3_DATATYPE_SORT',\n",
       " 'Z3_DEBUG',\n",
       " 'Z3_DEC_REF_ERROR',\n",
       " 'Z3_EXCEPTION']"
      ]
     },
     "execution_count": 5,
     "metadata": {},
     "output_type": "execute_result"
    }
   ],
   "source": [
    "z3_mdl = filter_module_dir(z3)\n",
    "\n",
    "z3_data = defaultdict(list)\n",
    "for entry in z3_mdl:\n",
    "    z3_data[entry[0]].append(entry)\n",
    "\n",
    "z3_data['a']\n",
    "z3_data['A']\n",
    "z3_constants = z3_data['Z']\n",
    "z3_constants[:10]"
   ]
  },
  {
   "cell_type": "code",
   "execution_count": 151,
   "metadata": {},
   "outputs": [
    {
     "data": {
      "text/plain": [
       "\u001b[1;31mInit signature:\u001b[0m \u001b[0mz3\u001b[0m\u001b[1;33m.\u001b[0m\u001b[0mz3\u001b[0m\u001b[1;33m.\u001b[0m\u001b[0mAstRef\u001b[0m\u001b[1;33m(\u001b[0m\u001b[0mast\u001b[0m\u001b[1;33m,\u001b[0m \u001b[0mctx\u001b[0m\u001b[1;33m=\u001b[0m\u001b[1;32mNone\u001b[0m\u001b[1;33m)\u001b[0m\u001b[1;33m\u001b[0m\u001b[1;33m\u001b[0m\u001b[0m\n",
       "\u001b[1;31mDocstring:\u001b[0m      AST are Direct Acyclic Graphs (DAGs) used to represent sorts, declarations and expressions.\n",
       "\u001b[1;31mFile:\u001b[0m           c:\\users\\catch\\anaconda3\\envs\\dsml\\lib\\site-packages\\z3\\z3.py\n",
       "\u001b[1;31mType:\u001b[0m           type\n",
       "\u001b[1;31mSubclasses:\u001b[0m     SortRef, FuncDeclRef, ExprRef\n"
      ]
     },
     "metadata": {},
     "output_type": "display_data"
    }
   ],
   "source": [
    "z3.z3.AstRef?"
   ]
  },
  {
   "cell_type": "markdown",
   "metadata": {},
   "source": [
    "---\n",
    "---\n",
    "# The CryptoArithmeticZ3Solver class definition"
   ]
  },
  {
   "cell_type": "code",
   "execution_count": 250,
   "metadata": {},
   "outputs": [],
   "source": [
    "import z3\n",
    "\n",
    "sat = z3.z3.CheckSatResult(z3.Z3_L_TRUE)\n",
    "unsat = z3.z3.CheckSatResult(z3.Z3_L_FALSE)\n",
    "\n",
    "\n",
    "class CryptoArithmeticZ3Solver():\n",
    "    def __init__(self, crypto, solution=None, op='+'):\n",
    "        msg = 'Crypto format: \"WORD + IS + THIS == MUCH\"\\n'\n",
    "        if op not in crypto:\n",
    "            raise TypeError(msg+f'Missing operator {op}')\n",
    "        if '==' not in crypto:\n",
    "            raise TypeError(msg+f'Missing equal \"==\"')\n",
    "            \n",
    "        self.op = op.strip()   \n",
    "        self.n_op = crypto.count(op)\n",
    "        \n",
    "        # Get list of words to appear on each line (summands if +)\n",
    "        words = [w.strip() for w in crypto.split(self.op)]\n",
    "        tail = words.pop(-1)\n",
    "        words += [w.strip() for w in tail.split('==')]\n",
    "        self.words = words\n",
    "        self.result_word = self.words[-1]\n",
    "        \n",
    "        # Set other props with one loop:\n",
    "        words_len = list()\n",
    "        first_ltrs = list()\n",
    "        letters = set()\n",
    "        maxl = 0\n",
    "        for w in words:\n",
    "            wlen = len(w)\n",
    "            words_len.append(wlen)\n",
    "            if wlen > maxl:\n",
    "                maxl = wlen\n",
    "            first_ltrs.append(w[0])\n",
    "            letters = set([''.join(l) for l in w])\n",
    "        \n",
    "        self.max_len = maxl\n",
    "        self.letters = letters\n",
    "        self.first_letters = first_ltrs\n",
    "        \n",
    "        self.initial_lines = self._get_initial_lines(crypto)\n",
    "        self.solution = solution\n",
    "        self.solution_lines = self._get_solution_lines()\n",
    "    \n",
    "    def _get_word_repr(self, word):\n",
    "        \"\"\"\n",
    "        Return a string of letters in word separated with a space.\n",
    "        Used in _get_initial_lines().\n",
    "        \"\"\"\n",
    "        s = ''\n",
    "        for l in word:\n",
    "            s += f' {l}'\n",
    "        return s\n",
    "    \n",
    "    def _get_letters_repr(self):\n",
    "        \"\"\"\n",
    "        Return a tuple of letters separated by a space:\n",
    "             (unique letters in puzzle, start_letters, other_letters).\n",
    "        Used in _solver_setup().\n",
    "        \"\"\"\n",
    "        L, F, O = '', '', ''\n",
    "        for l in self.letters:\n",
    "            L += f'{l} '\n",
    "            if l in self.first_letters:\n",
    "                F += f'{l} '\n",
    "            else:\n",
    "                O += f'{l} '\n",
    "        return (L[:-1], F[:-1], O[:-1])\n",
    "    \n",
    "        \n",
    "    def _get_initial_lines(self, crypto):\n",
    "        \"\"\"Pretty print the cryptarithmetric sting and its solution.\n",
    "        Arguments:\n",
    "        ----------\n",
    "        (str) crypto format: \"WORD + IS + THIS == MUCH\"\n",
    "        (dict) solution: letter as key\n",
    "        \"\"\"\n",
    "        lines = [] # -> [('T W O ', 'TWO')]\n",
    "        line = ''\n",
    "        n_op = crypto.count(op)\n",
    "        \n",
    "        for p in range(n_op + 2):    \n",
    "            if p == (n_op + 1):\n",
    "                sub = '{0:{fill}>{width}}'.format('-',fill='-', width=1+self.max_len*2)\n",
    "                lines.append((sub, '-'))\n",
    "            \n",
    "            s = self._get_word_repr(words[p])\n",
    "            \n",
    "            if (p > 0) and (p < (n_op + 1)):\n",
    "                line = '{op} {0:>{width}}'.format(s,\n",
    "                                                  op=self.op,\n",
    "                                                  width=self.max_len*2-2)\n",
    "            else:\n",
    "                line = '{:>{width}}'.format(s, width=self.max_len*2)\n",
    "            lines.append((line, words[p]))\n",
    "            \n",
    "        return lines\n",
    "    \n",
    "    \n",
    "    def _get_solution_lines(self):\n",
    "        if self.solution is None:\n",
    "            return []\n",
    "        else:\n",
    "            # self.solution hold the solver model\n",
    "            m = self.solution\n",
    "\n",
    "            out = dict((str(v), m[v]) for v in m.decls())\n",
    "            print(out)\n",
    "            \n",
    "            #print(f\"  T W O  :    {out['T']} {out['W']} {out['O']}\")\n",
    "            #print(f\"+ T W O  :  + {out['T']} {out['W']} {out['O']}\")\n",
    "            #print(\"-------  :  -------\")\n",
    "            #print(f\"F O U R  :  {out['F']} {out['O']} {out['U']} {out['R']}\")\n",
    "            \n",
    "            lines = [] # [('T W O ', 'TWO')]\n",
    "            \n",
    "            # get the initial line & exapnd them with solution\n",
    "            for i, (line, word) in enumerate(self.initial_lines):\n",
    "                values = ''\n",
    "                for l in word:\n",
    "                    values += f' {out[str(l)]}'\n",
    "                    \n",
    "                if (i > 0) and (i < len(self.initial_lines)-1):\n",
    "                    line += ' -> ' + '{op} {0:>{width}}'.format(values,\n",
    "                                                                op=self.op,\n",
    "                                                                width=self.max_len*2-2)\n",
    "                else:\n",
    "                    line += ' -> ' + '{:>{width}}'.format(values, width=self.max_len*2)\n",
    "                lines.append(line)\n",
    "    \n",
    "            return lines\n",
    "        \n",
    "        \n",
    "    def display(self):\n",
    "        s = ''\n",
    "        lines_out = self.initial_lines if self.solution is None else self.solution_lines\n",
    "        \n",
    "        for L in lines_out:\n",
    "            s +=f'{L[0]}\\n'\n",
    "        print(s)\n",
    "            \n",
    "        \n",
    "    def _solver_setup(self):\n",
    "        # create a Z3 CSP solver instance\n",
    "        solver = z3.Solver()\n",
    "        \n",
    "        # get 'l e t t e r s':\n",
    "        ltrs, first_ltrs, other_ltrs = self._get_letters_repr()\n",
    "\n",
    "        # create variables instance for all unique letters:\n",
    "        ltrs_vars = z3.Ints(ltrs)\n",
    "        # constraint: all must be different\n",
    "        c_distinct = [ z3.Distinct(ltrs_vars) ]\n",
    "        \n",
    "        # constraint: each word's 1st letter is a non-zero digit:\n",
    "        c_zero_not_first = [ z3.And(1<=L, L<=9) for L in z3.Ints(first_ltrs) ]\n",
    "    \n",
    "        # the others can be 0\n",
    "        c_digit = [ z3.And(0<=L, L<=9) for L in z3.Ints(other_ltrs) ]\n",
    "\n",
    "        # add all input constraints to the solver:\n",
    "        c_input = c_distinct + c_zero_not_first + c_digit\n",
    "        solver.add(c_input)\n",
    "        \n",
    "        return solver\n",
    "\n",
    "    def solve_puzzle(self):\n",
    "        solver = self._solver_setup()\n",
    "        if solver.check() == sat:\n",
    "            self.solution = solver.model()\n",
    "            self.solution_lines = self._get_solution_lines()\n",
    "        else:\n",
    "            print('Failed to solve.')\n",
    "            self.solution = None"
   ]
  },
  {
   "cell_type": "code",
   "execution_count": 258,
   "metadata": {},
   "outputs": [
    {
     "name": "stdout",
     "output_type": "stream",
     "text": [
      "   T H I S\n",
      "+      I S\n",
      "+    H I S\n",
      "-----------\n",
      " C L A I M\n",
      "\n"
     ]
    },
    {
     "data": {
      "text/plain": [
       "{'A', 'C', 'I', 'L', 'M'}"
      ]
     },
     "execution_count": 258,
     "metadata": {},
     "output_type": "execute_result"
    }
   ],
   "source": [
    "crypto_str = \"THIS + IS + HIS == CLAIM\"\n",
    "\n",
    "crypto = CryptoArithmeticZ3Solver(crypto_str)\n",
    "crypto.display()\n",
    "crypto.letters"
   ]
  },
  {
   "cell_type": "code",
   "execution_count": 252,
   "metadata": {},
   "outputs": [
    {
     "data": {
      "text/plain": [
       "[('   T H I S', 'THIS'),\n",
       " ('+      I S', 'IS'),\n",
       " ('+    H I S', 'HIS'),\n",
       " ('-----------', '-'),\n",
       " (' C L A I M', 'CLAIM')]"
      ]
     },
     "execution_count": 252,
     "metadata": {},
     "output_type": "execute_result"
    }
   ],
   "source": [
    "crypto.initial_lines"
   ]
  },
  {
   "cell_type": "code",
   "execution_count": 257,
   "metadata": {},
   "outputs": [
    {
     "data": {
      "text/plain": [
       "[A, M, I, C, L]"
      ]
     },
     "execution_count": 257,
     "metadata": {},
     "output_type": "execute_result"
    }
   ],
   "source": [
    "crypto.solution.decls()"
   ]
  },
  {
   "cell_type": "code",
   "execution_count": 254,
   "metadata": {},
   "outputs": [
    {
     "name": "stdout",
     "output_type": "stream",
     "text": [
      "{'A': 2, 'M': 3, 'I': 1, 'C': 4, 'L': 5}\n"
     ]
    },
    {
     "ename": "KeyError",
     "evalue": "'T'",
     "output_type": "error",
     "traceback": [
      "\u001b[1;31m---------------------------------------------------------------------------\u001b[0m",
      "\u001b[1;31mKeyError\u001b[0m                                  Traceback (most recent call last)",
      "\u001b[1;32m<ipython-input-254-c2573440d9d5>\u001b[0m in \u001b[0;36m<module>\u001b[1;34m\u001b[0m\n\u001b[1;32m----> 1\u001b[1;33m \u001b[0mcrypto\u001b[0m\u001b[1;33m.\u001b[0m\u001b[0msolve_puzzle\u001b[0m\u001b[1;33m(\u001b[0m\u001b[1;33m)\u001b[0m\u001b[1;33m\u001b[0m\u001b[1;33m\u001b[0m\u001b[0m\n\u001b[0m",
      "\u001b[1;32m<ipython-input-250-828793eefd8f>\u001b[0m in \u001b[0;36msolve_puzzle\u001b[1;34m(self)\u001b[0m\n\u001b[0;32m    170\u001b[0m         \u001b[1;32mif\u001b[0m \u001b[0msolver\u001b[0m\u001b[1;33m.\u001b[0m\u001b[0mcheck\u001b[0m\u001b[1;33m(\u001b[0m\u001b[1;33m)\u001b[0m \u001b[1;33m==\u001b[0m \u001b[0msat\u001b[0m\u001b[1;33m:\u001b[0m\u001b[1;33m\u001b[0m\u001b[1;33m\u001b[0m\u001b[0m\n\u001b[0;32m    171\u001b[0m             \u001b[0mself\u001b[0m\u001b[1;33m.\u001b[0m\u001b[0msolution\u001b[0m \u001b[1;33m=\u001b[0m \u001b[0msolver\u001b[0m\u001b[1;33m.\u001b[0m\u001b[0mmodel\u001b[0m\u001b[1;33m(\u001b[0m\u001b[1;33m)\u001b[0m\u001b[1;33m\u001b[0m\u001b[1;33m\u001b[0m\u001b[0m\n\u001b[1;32m--> 172\u001b[1;33m             \u001b[0mself\u001b[0m\u001b[1;33m.\u001b[0m\u001b[0msolution_lines\u001b[0m \u001b[1;33m=\u001b[0m \u001b[0mself\u001b[0m\u001b[1;33m.\u001b[0m\u001b[0m_get_solution_lines\u001b[0m\u001b[1;33m(\u001b[0m\u001b[1;33m)\u001b[0m\u001b[1;33m\u001b[0m\u001b[1;33m\u001b[0m\u001b[0m\n\u001b[0m\u001b[0;32m    173\u001b[0m         \u001b[1;32melse\u001b[0m\u001b[1;33m:\u001b[0m\u001b[1;33m\u001b[0m\u001b[1;33m\u001b[0m\u001b[0m\n\u001b[0;32m    174\u001b[0m             \u001b[0mprint\u001b[0m\u001b[1;33m(\u001b[0m\u001b[1;34m'Failed to solve.'\u001b[0m\u001b[1;33m)\u001b[0m\u001b[1;33m\u001b[0m\u001b[1;33m\u001b[0m\u001b[0m\n",
      "\u001b[1;32m<ipython-input-250-828793eefd8f>\u001b[0m in \u001b[0;36m_get_solution_lines\u001b[1;34m(self)\u001b[0m\n\u001b[0;32m    120\u001b[0m                 \u001b[0mvalues\u001b[0m \u001b[1;33m=\u001b[0m \u001b[1;34m''\u001b[0m\u001b[1;33m\u001b[0m\u001b[1;33m\u001b[0m\u001b[0m\n\u001b[0;32m    121\u001b[0m                 \u001b[1;32mfor\u001b[0m \u001b[0ml\u001b[0m \u001b[1;32min\u001b[0m \u001b[0mword\u001b[0m\u001b[1;33m:\u001b[0m\u001b[1;33m\u001b[0m\u001b[1;33m\u001b[0m\u001b[0m\n\u001b[1;32m--> 122\u001b[1;33m                     \u001b[0mvalues\u001b[0m \u001b[1;33m+=\u001b[0m \u001b[1;34mf' {out[str(l)]}'\u001b[0m\u001b[1;33m\u001b[0m\u001b[1;33m\u001b[0m\u001b[0m\n\u001b[0m\u001b[0;32m    123\u001b[0m \u001b[1;33m\u001b[0m\u001b[0m\n\u001b[0;32m    124\u001b[0m                 \u001b[1;32mif\u001b[0m \u001b[1;33m(\u001b[0m\u001b[0mi\u001b[0m \u001b[1;33m>\u001b[0m \u001b[1;36m0\u001b[0m\u001b[1;33m)\u001b[0m \u001b[1;32mand\u001b[0m \u001b[1;33m(\u001b[0m\u001b[0mi\u001b[0m \u001b[1;33m<\u001b[0m \u001b[0mlen\u001b[0m\u001b[1;33m(\u001b[0m\u001b[0mself\u001b[0m\u001b[1;33m.\u001b[0m\u001b[0minitial_lines\u001b[0m\u001b[1;33m)\u001b[0m\u001b[1;33m-\u001b[0m\u001b[1;36m1\u001b[0m\u001b[1;33m)\u001b[0m\u001b[1;33m:\u001b[0m\u001b[1;33m\u001b[0m\u001b[1;33m\u001b[0m\u001b[0m\n",
      "\u001b[1;31mKeyError\u001b[0m: 'T'"
     ]
    }
   ],
   "source": [
    "crypto.solve_puzzle()\n"
   ]
  },
  {
   "cell_type": "code",
   "execution_count": 255,
   "metadata": {},
   "outputs": [
    {
     "data": {
      "text/plain": [
       "[]"
      ]
     },
     "execution_count": 255,
     "metadata": {},
     "output_type": "execute_result"
    }
   ],
   "source": [
    "crypto.solution_lines"
   ]
  },
  {
   "cell_type": "markdown",
   "metadata": {},
   "source": [
    "---"
   ]
  },
  {
   "cell_type": "code",
   "execution_count": 104,
   "metadata": {},
   "outputs": [],
   "source": [
    "crypto_str = \"THIS + IS + HIS == CLAIM\"\n",
    "op = '+'"
   ]
  },
  {
   "cell_type": "code",
   "execution_count": 89,
   "metadata": {},
   "outputs": [],
   "source": [
    "# Set other props with one loop:\n",
    "words_len = list()\n",
    "first_ltrs = list()\n",
    "letters = set()\n",
    "maxl = 0\n",
    "for w in words:\n",
    "    wlen = len(w)\n",
    "    words_len.append(wlen)\n",
    "    if wlen > maxl:\n",
    "        maxl = wlen\n",
    "    first_ltrs.append(w[0])\n",
    "    letters = letters.union(set([''.join(l) for l in w]))"
   ]
  },
  {
   "cell_type": "markdown",
   "metadata": {},
   "source": [
    "---"
   ]
  },
  {
   "cell_type": "code",
   "execution_count": 225,
   "metadata": {},
   "outputs": [
    {
     "data": {
      "text/plain": [
       "sat"
      ]
     },
     "execution_count": 225,
     "metadata": {},
     "output_type": "execute_result"
    },
    {
     "data": {
      "text/plain": [
       "{'R': 4, 'O': 2, 'W': 3, 'U': 6, 'F': 1, 'T': 5}"
      ]
     },
     "execution_count": 225,
     "metadata": {},
     "output_type": "execute_result"
    }
   ],
   "source": [
    "ca_solver = ca_solver_init()\n",
    "ca_solver.check()\n",
    "\n",
    "m = ca_solver.model()\n",
    "out = dict((str(v), m[v]) for v in m.decls())\n",
    "out"
   ]
  },
  {
   "cell_type": "code",
   "execution_count": null,
   "metadata": {},
   "outputs": [],
   "source": [
    "ca_solver_results(ca_solver)"
   ]
  },
  {
   "cell_type": "code",
   "execution_count": 146,
   "metadata": {},
   "outputs": [],
   "source": [
    "def ca_solver_init():\n",
    "    # create a Z3 CSP solver instance\n",
    "    ca_solver = z3.Solver()\n",
    "    \n",
    "    ltrs = 'F O R T U W'\n",
    "    # create variables instance\n",
    "    ltrs_vars = z3.Ints(ltrs)\n",
    "    # each F, T vars contains a decimal digit (a value in {1, ..., 9}):\n",
    "    c_zero_not_first = [ z3.And(1<=D, D<=9) for D in z3.Ints('F T') ]\n",
    "    # the others can be 0\n",
    "    c_digit = [ z3.And(0<=D, D<=9) for D in z3.Ints('O R U W') ]\n",
    "    # all must be different\n",
    "    c_distinct = [ z3.Distinct(ltrs_vars) ]\n",
    "\n",
    "    c_input = c_digit + c_zero_not_first + c_distinct\n",
    "    \n",
    "    # add all input constraints to the solver:\n",
    "    ca_solver.add(c_input)\n",
    "    return ca_solver\n",
    "\n",
    "\n",
    "def ca_solver_results(s):\n",
    "    if s.check() == sat:\n",
    "        m = s.model()\n",
    "\n",
    "        out = {}\n",
    "        out = dict((str(v), m.evaluate(v)) for v in [F, O, R, T, U, W])\n",
    "\n",
    "        print(f\"  T W O  :    {out['T']} {out['W']} {out['O']}\")\n",
    "        print(f\"+ T W O  :  + {out['T']} {out['W']} {out['O']}\")\n",
    "        print(\"-------  :  -------\")\n",
    "        print(f\"F O U R  :  {out['F']} {out['O']} {out['U']} {out['R']}\")\n",
    "    else:\n",
    "        print(\"failed to solve\")\n",
    "        \n",
    "def ca_solver_results_failed(s):\n",
    "    if s.check() == sat:\n",
    "        m = s.model()\n",
    "\n",
    "        out = {}\n",
    "        out = dict((str(v), m.evaluate(v)) for v in m.decls()))\n",
    "\n",
    "        print(f\"  T W O  :    {out['T']} {out['W']} {out['O']}\")\n",
    "        print(f\"+ T W O  :  + {out['T']} {out['W']} {out['O']}\")\n",
    "        print(\"-------  :  -------\")\n",
    "        print(f\"F O U R  :  {out['F']} {out['O']} {out['U']} {out['R']}\")\n",
    "    else:\n",
    "        print(\"failed to solve\")"
   ]
  },
  {
   "cell_type": "code",
   "execution_count": 147,
   "metadata": {},
   "outputs": [],
   "source": [
    "del F, O, R, T, U, W"
   ]
  },
  {
   "cell_type": "code",
   "execution_count": 137,
   "metadata": {},
   "outputs": [
    {
     "name": "stdout",
     "output_type": "stream",
     "text": [
      "  T W O  :    7 3 4\n",
      "+ T W O  :  + 7 3 4\n",
      "-------  :  -------\n",
      "F O U R  :  1 4 6 8\n"
     ]
    }
   ],
   "source": [
    "ca_solver = z3.Solver()\n",
    "\n",
    "F, O, R, T, U, W = z3.Ints('F O R T U W') \n",
    "\n",
    "# Add carry variables:\n",
    "c10, c100, c1000 = z3.Ints('c10 c100 c1000')\n",
    "\n",
    "# each F, T vars contains a decimal digit (a value in {1, ..., 9}):\n",
    "c_zero_not_first = [ z3.And(1<=D, D<=9) for D in z3.Ints('F T') ]\n",
    "\n",
    "# the others can be 0\n",
    "c_digit = [ z3.And(0<=D, D<=9) for D in z3.Ints('O R U W') ]\n",
    "ca_solver.add(c_zero_not_first + c_digit)\n",
    "\n",
    "c_distinct = [ z3.Distinct([F, O, R, T, U, W]) ]\n",
    "ca_solver.add(c_distinct)\n",
    "\n",
    "ca_solver.add(2*O == R + 10 * c10)\n",
    "ca_solver.add(2*W + c10 == U + 10 * c100)\n",
    "ca_solver.add(2*T + c100 == O + 10 * c1000)\n",
    "ca_solver.add(F == c1000)\n",
    "\n",
    "ca_solver_results(ca_solver)"
   ]
  },
  {
   "cell_type": "code",
   "execution_count": null,
   "metadata": {},
   "outputs": [],
   "source": []
  },
  {
   "cell_type": "code",
   "execution_count": 177,
   "metadata": {},
   "outputs": [
    {
     "data": {
      "text/plain": [
       "\u001b[1;31mSignature:\u001b[0m \u001b[0mz3\u001b[0m\u001b[1;33m.\u001b[0m\u001b[0mFunction\u001b[0m\u001b[1;33m(\u001b[0m\u001b[0mname\u001b[0m\u001b[1;33m,\u001b[0m \u001b[1;33m*\u001b[0m\u001b[0msig\u001b[0m\u001b[1;33m)\u001b[0m\u001b[1;33m\u001b[0m\u001b[1;33m\u001b[0m\u001b[0m\n",
       "\u001b[1;31mDocstring:\u001b[0m\n",
       "Create a new Z3 uninterpreted function with the given sorts.\n",
       "\n",
       ">>> f = Function('f', IntSort(), IntSort())\n",
       ">>> f(f(0))\n",
       "f(f(0))\n",
       "\u001b[1;31mFile:\u001b[0m      c:\\users\\catch\\anaconda3\\envs\\dsml\\lib\\site-packages\\z3\\z3.py\n",
       "\u001b[1;31mType:\u001b[0m      function\n"
      ]
     },
     "metadata": {},
     "output_type": "display_data"
    }
   ],
   "source": [
    "z3.Function?"
   ]
  },
  {
   "cell_type": "markdown",
   "metadata": {},
   "source": [
    "The operation of modular exponentiation calculates the remainder when an integer b (the base)  \n",
    "raised to the eth power (the exponent), be, is divided by a positive integer m (the modulus).  \n",
    "\n",
    "In symbols, given base b, exponent e, and modulus m, the modular exponentiation c is:  \n",
    "c = be mod m. From the definition of c, it follows that 0 ≤ c < m.\n",
    "\n",
    "For example, given b = 5, e = 3 and m = 13, the solution c = 8 is the remainder of dividing 53 = 125 by 13."
   ]
  },
  {
   "cell_type": "code",
   "execution_count": 200,
   "metadata": {},
   "outputs": [
    {
     "ename": "SyntaxError",
     "evalue": "invalid syntax (<ipython-input-200-7a0b6431176b>, line 10)",
     "output_type": "error",
     "traceback": [
      "\u001b[1;36m  File \u001b[1;32m\"<ipython-input-200-7a0b6431176b>\"\u001b[1;36m, line \u001b[1;32m10\u001b[0m\n\u001b[1;33m    s.add([b = 5, m = 13, c = 8])\u001b[0m\n\u001b[1;37m             ^\u001b[0m\n\u001b[1;31mSyntaxError\u001b[0m\u001b[1;31m:\u001b[0m invalid syntax\n"
     ]
    }
   ],
   "source": [
    "s = z3.Solver()\n",
    "\n",
    "b, c, m = z3.Ints('b c m')\n",
    "e = z3.Real('e')\n",
    "\n",
    "s.add([ z3.And(0<=c, c<m) ])\n",
    "#f = z3.Function('f',  z3.IntSort(), z3.IntSort(), z3.IntSort())\n",
    "#s.add(f)\n",
    "#print(s.sexpr())\n",
    "s.add([b = 5, m = 13, c = 8])\n",
    "z3.solve(((b**e) % m) == c)\n",
    "\n",
    "s.check()\n",
    "m = s.model()\n",
    "m\n"
   ]
  },
  {
   "cell_type": "code",
   "execution_count": null,
   "metadata": {},
   "outputs": [],
   "source": []
  }
 ],
 "metadata": {
  "kernelspec": {
   "display_name": "Python 3",
   "language": "python",
   "name": "python3"
  },
  "language_info": {
   "codemirror_mode": {
    "name": "ipython",
    "version": 3
   },
   "file_extension": ".py",
   "mimetype": "text/x-python",
   "name": "python",
   "nbconvert_exporter": "python",
   "pygments_lexer": "ipython3",
   "version": "3.6.7"
  }
 },
 "nbformat": 4,
 "nbformat_minor": 4
}
